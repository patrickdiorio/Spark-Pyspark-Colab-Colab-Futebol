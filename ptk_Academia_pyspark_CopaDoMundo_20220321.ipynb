{
  "nbformat": 4,
  "nbformat_minor": 0,
  "metadata": {
    "colab": {
      "name": "ptk_Academia_pyspark_CopaDoMundo_20220321.ipynb",
      "provenance": [],
      "collapsed_sections": [],
      "include_colab_link": true
    },
    "kernelspec": {
      "name": "python3",
      "display_name": "Python 3"
    },
    "language_info": {
      "name": "python"
    }
  },
  "cells": [
    {
      "cell_type": "markdown",
      "metadata": {
        "id": "view-in-github",
        "colab_type": "text"
      },
      "source": [
        "<a href=\"https://colab.research.google.com/github/patrickdiorio/Spark-Pyspark-Colab-SQL-CopadoMundo/blob/main/ptk_Academia_pyspark_CopaDoMundo_20220321.ipynb\" target=\"_parent\"><img src=\"https://colab.research.google.com/assets/colab-badge.svg\" alt=\"Open In Colab\"/></a>"
      ]
    },
    {
      "cell_type": "markdown",
      "source": [
        "# ***Configuração ambiente***"
      ],
      "metadata": {
        "id": "ouvyCest9dMO"
      }
    },
    {
      "cell_type": "code",
      "execution_count": 1,
      "metadata": {
        "colab": {
          "base_uri": "https://localhost:8080/"
        },
        "id": "wfmgmy9JpTQj",
        "outputId": "c15181da-88e7-46b3-ec0c-5849a4e7e3ca"
      },
      "outputs": [
        {
          "output_type": "stream",
          "name": "stdout",
          "text": [
            "Requirement already satisfied: pyspark in /usr/local/lib/python3.7/dist-packages (3.2.1)\n",
            "Requirement already satisfied: py4j==0.10.9.3 in /usr/local/lib/python3.7/dist-packages (from pyspark) (0.10.9.3)\n"
          ]
        }
      ],
      "source": [
        "# Instalacao pyspark\n",
        "!pip install pyspark"
      ]
    },
    {
      "cell_type": "code",
      "source": [
        "# Iniciar sessão pyspark\n",
        "from pyspark.sql import SparkSession\n",
        "\n",
        "spark = SparkSession.builder\\\n",
        "        .master(\"local\")\\\n",
        "        .appName(\"Colab\")\\\n",
        "        .config('spark.ui.port', '4050')\\\n",
        "        .getOrCreate()"
      ],
      "metadata": {
        "id": "W0A4fK47qgXZ"
      },
      "execution_count": 2,
      "outputs": []
    },
    {
      "cell_type": "code",
      "source": [
        "# Versão spark\n",
        "spark"
      ],
      "metadata": {
        "colab": {
          "base_uri": "https://localhost:8080/",
          "height": 219
        },
        "id": "wrCCf5RZqtOW",
        "outputId": "6e7ca4cf-8882-415d-b9e6-c44057c80548"
      },
      "execution_count": 3,
      "outputs": [
        {
          "output_type": "execute_result",
          "data": {
            "text/plain": [
              "<pyspark.sql.session.SparkSession at 0x7fd92db57990>"
            ],
            "text/html": [
              "\n",
              "            <div>\n",
              "                <p><b>SparkSession - in-memory</b></p>\n",
              "                \n",
              "        <div>\n",
              "            <p><b>SparkContext</b></p>\n",
              "\n",
              "            <p><a href=\"http://6f3e965f0209:4050\">Spark UI</a></p>\n",
              "\n",
              "            <dl>\n",
              "              <dt>Version</dt>\n",
              "                <dd><code>v3.2.1</code></dd>\n",
              "              <dt>Master</dt>\n",
              "                <dd><code>local</code></dd>\n",
              "              <dt>AppName</dt>\n",
              "                <dd><code>Colab</code></dd>\n",
              "            </dl>\n",
              "        </div>\n",
              "        \n",
              "            </div>\n",
              "        "
            ]
          },
          "metadata": {},
          "execution_count": 3
        }
      ]
    },
    {
      "cell_type": "code",
      "source": [
        "# Versão python\n",
        "!python --version"
      ],
      "metadata": {
        "colab": {
          "base_uri": "https://localhost:8080/"
        },
        "id": "nu53D3Vm-y-G",
        "outputId": "66bc5f29-1239-45c1-a066-3b2157fdd810"
      },
      "execution_count": 4,
      "outputs": [
        {
          "output_type": "stream",
          "name": "stdout",
          "text": [
            "Python 3.7.13\n"
          ]
        }
      ]
    },
    {
      "cell_type": "code",
      "source": [
        "# Bibliotecas necessárias\n",
        "from pyspark.sql import *\n",
        "from pandas import *\n",
        "from google.colab import files\n",
        "from pyspark import SparkFiles"
      ],
      "metadata": {
        "id": "nu8fYWCDGnWN"
      },
      "execution_count": 5,
      "outputs": []
    },
    {
      "cell_type": "markdown",
      "source": [
        "# ***Copa do Mundo .csv***"
      ],
      "metadata": {
        "id": "v9Pg1IE89k44"
      }
    },
    {
      "cell_type": "code",
      "source": [
        "# Leitura dos arquivos .csv localizados nas url's abaixo\n",
        "url1 = 'https://raw.githubusercontent.com/aureliolucassilva/spark/main/bases/copa_do_mundo/WorldCupMatches.csv'\n",
        "url2 = 'https://raw.githubusercontent.com/aureliolucassilva/spark/main/bases/copa_do_mundo/WorldCupPlayers.csv'\n",
        "url3 = 'https://raw.githubusercontent.com/aureliolucassilva/spark/main/bases/copa_do_mundo/WorldCups.csv'\n",
        "\n",
        "\n",
        "# Inicializar dataframes\n",
        "spark.sparkContext.addFile(url1)\n",
        "spark.sparkContext.addFile(url2)\n",
        "spark.sparkContext.addFile(url3)\n",
        "jogosCopa = spark.read.csv(SparkFiles.get(\"WorldCupMatches.csv\"), inferSchema=True, header=True)\n",
        "jogadoresCopa = spark.read.csv(SparkFiles.get(\"WorldCupPlayers.csv\"), inferSchema=True, header=True)\n",
        "copasMundo = spark.read.csv(SparkFiles.get(\"WorldCups.csv\"), inferSchema=True, header=True)"
      ],
      "metadata": {
        "id": "NmWFknvkqxSB"
      },
      "execution_count": 6,
      "outputs": []
    },
    {
      "cell_type": "code",
      "source": [
        "# Jogos da copa (Amostra de 10 registros)\n",
        "jogosCopa.show(10)"
      ],
      "metadata": {
        "id": "QXfFw0G_sMC0",
        "colab": {
          "base_uri": "https://localhost:8080/"
        },
        "outputId": "87dfb7cd-b33a-4104-f6cb-5477ce69fdaa"
      },
      "execution_count": 7,
      "outputs": [
        {
          "output_type": "stream",
          "name": "stdout",
          "text": [
            "+----+--------------------+-------+------------------+-----------+--------------+---------------+---------------+--------------+--------------+----------+--------------------+--------------------+--------------------+--------------------+--------------------+-------+-------+------------------+------------------+\n",
            "|Year|            Datetime|  Stage|           Stadium|       City|Home Team Name|Home Team Goals|Away Team Goals|Away Team Name|Win conditions|Attendance|Half-time Home Goals|Half-time Away Goals|             Referee|         Assistant 1|         Assistant 2|RoundID|MatchID|Home Team Initials|Away Team Initials|\n",
            "+----+--------------------+-------+------------------+-----------+--------------+---------------+---------------+--------------+--------------+----------+--------------------+--------------------+--------------------+--------------------+--------------------+-------+-------+------------------+------------------+\n",
            "|1930|13 Jul 1930 - 15:00 |Group 1|           Pocitos|Montevideo |        France|              4|              1|        Mexico|              |      4444|                   3|                   0|LOMBARDI Domingo ...|CRISTOPHE Henry (...| REGO Gilberto (BRA)|    201|   1096|               FRA|               MEX|\n",
            "|1930|13 Jul 1930 - 15:00 |Group 4|    Parque Central|Montevideo |           USA|              3|              0|       Belgium|              |     18346|                   2|                   0|   MACIAS Jose (ARG)|MATEUCCI Francisc...|WARNKEN Alberto (...|    201|   1090|               USA|               BEL|\n",
            "|1930|14 Jul 1930 - 12:45 |Group 2|    Parque Central|Montevideo |    Yugoslavia|              2|              1|        Brazil|              |     24059|                   2|                   0| TEJADA Anibal (URU)|VALLARINO Ricardo...| BALWAY Thomas (FRA)|    201|   1093|               YUG|               BRA|\n",
            "|1930|14 Jul 1930 - 14:50 |Group 3|           Pocitos|Montevideo |       Romania|              3|              1|          Peru|              |      2549|                   1|                   0|WARNKEN Alberto (...| LANGENUS Jean (BEL)|MATEUCCI Francisc...|    201|   1098|               ROU|               PER|\n",
            "|1930|15 Jul 1930 - 16:00 |Group 1|    Parque Central|Montevideo |     Argentina|              1|              0|        France|              |     23409|                   0|                   0| REGO Gilberto (BRA)|SAUCEDO Ulises (BOL)|RADULESCU Constan...|    201|   1085|               ARG|               FRA|\n",
            "|1930|16 Jul 1930 - 14:45 |Group 1|    Parque Central|Montevideo |         Chile|              3|              0|        Mexico|              |      9249|                   1|                   0|CRISTOPHE Henry (...|APHESTEGUY Martin...| LANGENUS Jean (BEL)|    201|   1095|               CHI|               MEX|\n",
            "|1930|17 Jul 1930 - 12:45 |Group 2|    Parque Central|Montevideo |    Yugoslavia|              4|              0|       Bolivia|              |     18306|                   0|                   0|MATEUCCI Francisc...|LOMBARDI Domingo ...|WARNKEN Alberto (...|    201|   1092|               YUG|               BOL|\n",
            "|1930|17 Jul 1930 - 14:45 |Group 4|    Parque Central|Montevideo |           USA|              3|              0|      Paraguay|              |     18306|                   2|                   0|   MACIAS Jose (ARG)|APHESTEGUY Martin...| TEJADA Anibal (URU)|    201|   1097|               USA|               PAR|\n",
            "|1930|18 Jul 1930 - 14:30 |Group 3|Estadio Centenario|Montevideo |       Uruguay|              1|              0|          Peru|              |     57735|                   0|                   0| LANGENUS Jean (BEL)| BALWAY Thomas (FRA)|CRISTOPHE Henry (...|    201|   1099|               URU|               PER|\n",
            "|1930|19 Jul 1930 - 12:50 |Group 1|Estadio Centenario|Montevideo |         Chile|              1|              0|        France|              |      2000|                   0|                   0| TEJADA Anibal (URU)|LOMBARDI Domingo ...| REGO Gilberto (BRA)|    201|   1094|               CHI|               FRA|\n",
            "+----+--------------------+-------+------------------+-----------+--------------+---------------+---------------+--------------+--------------+----------+--------------------+--------------------+--------------------+--------------------+--------------------+-------+-------+------------------+------------------+\n",
            "only showing top 10 rows\n",
            "\n"
          ]
        }
      ]
    },
    {
      "cell_type": "code",
      "source": [
        "# Jogadores da copa (Amostra de 10 registros)\n",
        "jogadoresCopa.show(10)"
      ],
      "metadata": {
        "id": "OiBH46iTBr9H",
        "colab": {
          "base_uri": "https://localhost:8080/"
        },
        "outputId": "2d69a8a2-3d7b-4b4a-a2df-0e9b59f37d17"
      },
      "execution_count": 8,
      "outputs": [
        {
          "output_type": "stream",
          "name": "stdout",
          "text": [
            "+-------+-------+-------------+-------------------+-------+------------+----------------+--------+---------+\n",
            "|RoundID|MatchID|Team Initials|         Coach Name|Line-up|Shirt Number|     Player Name|Position|    Event|\n",
            "+-------+-------+-------------+-------------------+-------+------------+----------------+--------+---------+\n",
            "|    201|   1096|          FRA|CAUDRON Raoul (FRA)|      S|           0|     Alex THEPOT|      GK|     null|\n",
            "|    201|   1096|          MEX|   LUQUE Juan (MEX)|      S|           0| Oscar BONFIGLIO|      GK|     null|\n",
            "|    201|   1096|          FRA|CAUDRON Raoul (FRA)|      S|           0|Marcel LANGILLER|    null|     G40'|\n",
            "|    201|   1096|          MEX|   LUQUE Juan (MEX)|      S|           0|    Juan CARRENO|    null|     G70'|\n",
            "|    201|   1096|          FRA|CAUDRON Raoul (FRA)|      S|           0| Ernest LIBERATI|    null|     null|\n",
            "|    201|   1096|          MEX|   LUQUE Juan (MEX)|      S|           0|    Rafael GARZA|       C|     null|\n",
            "|    201|   1096|          FRA|CAUDRON Raoul (FRA)|      S|           0| Andre MASCHINOT|    null|G43' G87'|\n",
            "|    201|   1096|          MEX|   LUQUE Juan (MEX)|      S|           0|   Hilario LOPEZ|    null|     null|\n",
            "|    201|   1096|          FRA|CAUDRON Raoul (FRA)|      S|           0| Etienne MATTLER|    null|     null|\n",
            "|    201|   1096|          MEX|   LUQUE Juan (MEX)|      S|           0|  Dionisio MEJIA|    null|     null|\n",
            "+-------+-------+-------------+-------------------+-------+------------+----------------+--------+---------+\n",
            "only showing top 10 rows\n",
            "\n"
          ]
        }
      ]
    },
    {
      "cell_type": "code",
      "source": [
        "# Copas do mundo (Amostra de 10 registros)\n",
        "copasMundo.show(10)"
      ],
      "metadata": {
        "id": "UhW1VvewBt7m",
        "colab": {
          "base_uri": "https://localhost:8080/"
        },
        "outputId": "ea7b8858-a529-4064-86da-8639692fadab"
      },
      "execution_count": 9,
      "outputs": [
        {
          "output_type": "stream",
          "name": "stdout",
          "text": [
            "+----+-----------+----------+--------------+----------+------------+-----------+--------------+-------------+----------+\n",
            "|Year|    Country|    Winner|    Runners-Up|     Third|      Fourth|GoalsScored|QualifiedTeams|MatchesPlayed|Attendance|\n",
            "+----+-----------+----------+--------------+----------+------------+-----------+--------------+-------------+----------+\n",
            "|1930|    Uruguay|   Uruguay|     Argentina|       USA|  Yugoslavia|         70|            13|           18|   590.549|\n",
            "|1934|      Italy|     Italy|Czechoslovakia|   Germany|     Austria|         70|            16|           17|   363.000|\n",
            "|1938|     France|     Italy|       Hungary|    Brazil|      Sweden|         84|            15|           18|   375.700|\n",
            "|1950|     Brazil|   Uruguay|        Brazil|    Sweden|       Spain|         88|            13|           22| 1.045.246|\n",
            "|1954|Switzerland|Germany FR|       Hungary|   Austria|     Uruguay|        140|            16|           26|   768.607|\n",
            "|1958|     Sweden|    Brazil|        Sweden|    France|  Germany FR|        126|            16|           35|   819.810|\n",
            "|1962|      Chile|    Brazil|Czechoslovakia|     Chile|  Yugoslavia|         89|            16|           32|   893.172|\n",
            "|1966|    England|   England|    Germany FR|  Portugal|Soviet Union|         89|            16|           32| 1.563.135|\n",
            "|1970|     Mexico|    Brazil|         Italy|Germany FR|     Uruguay|         95|            16|           32| 1.603.975|\n",
            "|1974|    Germany|Germany FR|   Netherlands|    Poland|      Brazil|         97|            16|           38| 1.865.753|\n",
            "+----+-----------+----------+--------------+----------+------------+-----------+--------------+-------------+----------+\n",
            "only showing top 10 rows\n",
            "\n"
          ]
        }
      ]
    },
    {
      "cell_type": "code",
      "source": [
        "# Schema do dataframe jogosCopa\n",
        "jogosCopa.printSchema()"
      ],
      "metadata": {
        "id": "rTovMewxvnHp",
        "colab": {
          "base_uri": "https://localhost:8080/"
        },
        "outputId": "7a8900c5-4be7-48cc-8d34-707bb81d6400"
      },
      "execution_count": 10,
      "outputs": [
        {
          "output_type": "stream",
          "name": "stdout",
          "text": [
            "root\n",
            " |-- Year: integer (nullable = true)\n",
            " |-- Datetime: string (nullable = true)\n",
            " |-- Stage: string (nullable = true)\n",
            " |-- Stadium: string (nullable = true)\n",
            " |-- City: string (nullable = true)\n",
            " |-- Home Team Name: string (nullable = true)\n",
            " |-- Home Team Goals: integer (nullable = true)\n",
            " |-- Away Team Goals: integer (nullable = true)\n",
            " |-- Away Team Name: string (nullable = true)\n",
            " |-- Win conditions: string (nullable = true)\n",
            " |-- Attendance: integer (nullable = true)\n",
            " |-- Half-time Home Goals: integer (nullable = true)\n",
            " |-- Half-time Away Goals: integer (nullable = true)\n",
            " |-- Referee: string (nullable = true)\n",
            " |-- Assistant 1: string (nullable = true)\n",
            " |-- Assistant 2: string (nullable = true)\n",
            " |-- RoundID: integer (nullable = true)\n",
            " |-- MatchID: integer (nullable = true)\n",
            " |-- Home Team Initials: string (nullable = true)\n",
            " |-- Away Team Initials: string (nullable = true)\n",
            "\n"
          ]
        }
      ]
    },
    {
      "cell_type": "code",
      "source": [
        "# Schema do dataframe jogadoresCopa\n",
        "jogadoresCopa.printSchema()"
      ],
      "metadata": {
        "id": "a-4KoXVVDCtv",
        "colab": {
          "base_uri": "https://localhost:8080/"
        },
        "outputId": "98e1b513-377a-4d14-9faf-d62e70be6d5c"
      },
      "execution_count": 11,
      "outputs": [
        {
          "output_type": "stream",
          "name": "stdout",
          "text": [
            "root\n",
            " |-- RoundID: integer (nullable = true)\n",
            " |-- MatchID: integer (nullable = true)\n",
            " |-- Team Initials: string (nullable = true)\n",
            " |-- Coach Name: string (nullable = true)\n",
            " |-- Line-up: string (nullable = true)\n",
            " |-- Shirt Number: integer (nullable = true)\n",
            " |-- Player Name: string (nullable = true)\n",
            " |-- Position: string (nullable = true)\n",
            " |-- Event: string (nullable = true)\n",
            "\n"
          ]
        }
      ]
    },
    {
      "cell_type": "code",
      "source": [
        "# Schema do dataframe copasMundo\n",
        "copasMundo.printSchema()"
      ],
      "metadata": {
        "id": "zDaumm1pDItn",
        "colab": {
          "base_uri": "https://localhost:8080/"
        },
        "outputId": "88ce941b-bce2-43f1-840a-1ecd92cb3715"
      },
      "execution_count": 12,
      "outputs": [
        {
          "output_type": "stream",
          "name": "stdout",
          "text": [
            "root\n",
            " |-- Year: integer (nullable = true)\n",
            " |-- Country: string (nullable = true)\n",
            " |-- Winner: string (nullable = true)\n",
            " |-- Runners-Up: string (nullable = true)\n",
            " |-- Third: string (nullable = true)\n",
            " |-- Fourth: string (nullable = true)\n",
            " |-- GoalsScored: integer (nullable = true)\n",
            " |-- QualifiedTeams: integer (nullable = true)\n",
            " |-- MatchesPlayed: integer (nullable = true)\n",
            " |-- Attendance: string (nullable = true)\n",
            "\n"
          ]
        }
      ]
    },
    {
      "cell_type": "markdown",
      "source": [
        "# ***Público nos jogos***"
      ],
      "metadata": {
        "id": "kT_dGfTPDUde"
      }
    },
    {
      "cell_type": "code",
      "source": [
        "# Maior, menor e média de público nos jogos \n",
        "maiorAno = jogosCopa.agg({\"Year\": \"max\"}).collect()[0][0]\n",
        "menorAno = jogosCopa.agg({\"Year\": \"min\"}).collect()[0][0]\n",
        "maiorPublico = jogosCopa.agg({\"Attendance\": \"max\"}).collect()[0][0]\n",
        "menorPublico = jogosCopa.agg({\"Attendance\": \"min\"}).collect()[0][0]\n",
        "mediaPublico = jogosCopa.agg({\"Attendance\": \"avg\"}).collect()[0][0]\n",
        "msg = 'Público entre os anos ' + str(menorAno) + ' e ' + str(maiorAno) + '\\n' + \\\n",
        "      'Maior público: ' + str(maiorPublico) + '\\n' + \\\n",
        "      'Menor público: ' + str(menorPublico) + '\\n' + \\\n",
        "      'Média público: ' + str(mediaPublico) + '\\n' \n",
        "print(msg)"
      ],
      "metadata": {
        "id": "LAZ9ua90vIoQ",
        "colab": {
          "base_uri": "https://localhost:8080/"
        },
        "outputId": "00c6fa30-4ba1-4dba-df64-66355c9b11d8"
      },
      "execution_count": 13,
      "outputs": [
        {
          "output_type": "stream",
          "name": "stdout",
          "text": [
            "Público entre os anos 1930 e 2014\n",
            "Maior público: 173850\n",
            "Menor público: 2000\n",
            "Média público: 45164.8\n",
            "\n"
          ]
        }
      ]
    },
    {
      "cell_type": "code",
      "source": [
        "# Jogo com maior público\n",
        "jogosIconicos = jogosCopa.filter(jogosCopa.Attendance == maiorPublico)\n",
        "jogosIconicos.show()"
      ],
      "metadata": {
        "id": "3QB2JXFvwj3Z",
        "colab": {
          "base_uri": "https://localhost:8080/"
        },
        "outputId": "ffc96d0f-c517-4b3a-9247-60576dbfe8c9"
      },
      "execution_count": 14,
      "outputs": [
        {
          "output_type": "stream",
          "name": "stdout",
          "text": [
            "+----+--------------------+-------+--------------------+---------------+--------------+---------------+---------------+--------------+--------------+----------+--------------------+--------------------+-------------------+------------------+--------------------+-------+-------+------------------+------------------+\n",
            "|Year|            Datetime|  Stage|             Stadium|           City|Home Team Name|Home Team Goals|Away Team Goals|Away Team Name|Win conditions|Attendance|Half-time Home Goals|Half-time Away Goals|            Referee|       Assistant 1|         Assistant 2|RoundID|MatchID|Home Team Initials|Away Team Initials|\n",
            "+----+--------------------+-------+--------------------+---------------+--------------+---------------+---------------+--------------+--------------+----------+--------------------+--------------------+-------------------+------------------+--------------------+-------+-------+------------------+------------------+\n",
            "|1950|16 Jul 1950 - 15:00 |Group 6|Maracan� - Est�di...|Rio De Janeiro |       Uruguay|              2|              1|        Brazil|              |    173850|                   0|                   0|READER George (ENG)|ELLIS Arthur (ENG)|MITCHELL George (...|    209|   1190|               URU|               BRA|\n",
            "+----+--------------------+-------+--------------------+---------------+--------------+---------------+---------------+--------------+--------------+----------+--------------------+--------------------+-------------------+------------------+--------------------+-------+-------+------------------+------------------+\n",
            "\n"
          ]
        }
      ]
    },
    {
      "cell_type": "code",
      "source": [
        "# Jogo com menor público\n",
        "jogosIconicos = jogosIconicos.union(jogosCopa.filter(jogosCopa.Attendance == menorPublico))\n",
        "jogosIconicos.show()\n",
        "\n",
        "#inclui o dado no data freme por isto tem 2 dado"
      ],
      "metadata": {
        "id": "ZLPxLsTY9zyI",
        "colab": {
          "base_uri": "https://localhost:8080/"
        },
        "outputId": "b96625d9-c252-4e92-bd25-c4e62ffb265a"
      },
      "execution_count": 15,
      "outputs": [
        {
          "output_type": "stream",
          "name": "stdout",
          "text": [
            "+----+--------------------+-------+--------------------+---------------+--------------+---------------+---------------+--------------+--------------+----------+--------------------+--------------------+-------------------+--------------------+--------------------+-------+-------+------------------+------------------+\n",
            "|Year|            Datetime|  Stage|             Stadium|           City|Home Team Name|Home Team Goals|Away Team Goals|Away Team Name|Win conditions|Attendance|Half-time Home Goals|Half-time Away Goals|            Referee|         Assistant 1|         Assistant 2|RoundID|MatchID|Home Team Initials|Away Team Initials|\n",
            "+----+--------------------+-------+--------------------+---------------+--------------+---------------+---------------+--------------+--------------+----------+--------------------+--------------------+-------------------+--------------------+--------------------+-------+-------+------------------+------------------+\n",
            "|1950|16 Jul 1950 - 15:00 |Group 6|Maracan� - Est�di...|Rio De Janeiro |       Uruguay|              2|              1|        Brazil|              |    173850|                   0|                   0|READER George (ENG)|  ELLIS Arthur (ENG)|MITCHELL George (...|    209|   1190|               URU|               BRA|\n",
            "|1930|19 Jul 1930 - 12:50 |Group 1|  Estadio Centenario|    Montevideo |         Chile|              1|              0|        France|              |      2000|                   0|                   0|TEJADA Anibal (URU)|LOMBARDI Domingo ...| REGO Gilberto (BRA)|    201|   1094|               CHI|               FRA|\n",
            "+----+--------------------+-------+--------------------+---------------+--------------+---------------+---------------+--------------+--------------+----------+--------------------+--------------------+-------------------+--------------------+--------------------+-------+-------+------------------+------------------+\n",
            "\n"
          ]
        }
      ]
    },
    {
      "cell_type": "code",
      "source": [
        "# Jogos abaixo da média de público\n",
        "jogosCopa.filter(jogosCopa.Attendance < mediaPublico).show(10)"
      ],
      "metadata": {
        "id": "izI6hfUwGp_p",
        "colab": {
          "base_uri": "https://localhost:8080/"
        },
        "outputId": "ae3e489f-d44a-4453-b47a-885fc846f4e9"
      },
      "execution_count": 16,
      "outputs": [
        {
          "output_type": "stream",
          "name": "stdout",
          "text": [
            "+----+--------------------+-------+------------------+-----------+--------------+---------------+---------------+--------------+--------------+----------+--------------------+--------------------+--------------------+--------------------+--------------------+-------+-------+------------------+------------------+\n",
            "|Year|            Datetime|  Stage|           Stadium|       City|Home Team Name|Home Team Goals|Away Team Goals|Away Team Name|Win conditions|Attendance|Half-time Home Goals|Half-time Away Goals|             Referee|         Assistant 1|         Assistant 2|RoundID|MatchID|Home Team Initials|Away Team Initials|\n",
            "+----+--------------------+-------+------------------+-----------+--------------+---------------+---------------+--------------+--------------+----------+--------------------+--------------------+--------------------+--------------------+--------------------+-------+-------+------------------+------------------+\n",
            "|1930|13 Jul 1930 - 15:00 |Group 1|           Pocitos|Montevideo |        France|              4|              1|        Mexico|              |      4444|                   3|                   0|LOMBARDI Domingo ...|CRISTOPHE Henry (...| REGO Gilberto (BRA)|    201|   1096|               FRA|               MEX|\n",
            "|1930|13 Jul 1930 - 15:00 |Group 4|    Parque Central|Montevideo |           USA|              3|              0|       Belgium|              |     18346|                   2|                   0|   MACIAS Jose (ARG)|MATEUCCI Francisc...|WARNKEN Alberto (...|    201|   1090|               USA|               BEL|\n",
            "|1930|14 Jul 1930 - 12:45 |Group 2|    Parque Central|Montevideo |    Yugoslavia|              2|              1|        Brazil|              |     24059|                   2|                   0| TEJADA Anibal (URU)|VALLARINO Ricardo...| BALWAY Thomas (FRA)|    201|   1093|               YUG|               BRA|\n",
            "|1930|14 Jul 1930 - 14:50 |Group 3|           Pocitos|Montevideo |       Romania|              3|              1|          Peru|              |      2549|                   1|                   0|WARNKEN Alberto (...| LANGENUS Jean (BEL)|MATEUCCI Francisc...|    201|   1098|               ROU|               PER|\n",
            "|1930|15 Jul 1930 - 16:00 |Group 1|    Parque Central|Montevideo |     Argentina|              1|              0|        France|              |     23409|                   0|                   0| REGO Gilberto (BRA)|SAUCEDO Ulises (BOL)|RADULESCU Constan...|    201|   1085|               ARG|               FRA|\n",
            "|1930|16 Jul 1930 - 14:45 |Group 1|    Parque Central|Montevideo |         Chile|              3|              0|        Mexico|              |      9249|                   1|                   0|CRISTOPHE Henry (...|APHESTEGUY Martin...| LANGENUS Jean (BEL)|    201|   1095|               CHI|               MEX|\n",
            "|1930|17 Jul 1930 - 12:45 |Group 2|    Parque Central|Montevideo |    Yugoslavia|              4|              0|       Bolivia|              |     18306|                   0|                   0|MATEUCCI Francisc...|LOMBARDI Domingo ...|WARNKEN Alberto (...|    201|   1092|               YUG|               BOL|\n",
            "|1930|17 Jul 1930 - 14:45 |Group 4|    Parque Central|Montevideo |           USA|              3|              0|      Paraguay|              |     18306|                   2|                   0|   MACIAS Jose (ARG)|APHESTEGUY Martin...| TEJADA Anibal (URU)|    201|   1097|               USA|               PAR|\n",
            "|1930|19 Jul 1930 - 12:50 |Group 1|Estadio Centenario|Montevideo |         Chile|              1|              0|        France|              |      2000|                   0|                   0| TEJADA Anibal (URU)|LOMBARDI Domingo ...| REGO Gilberto (BRA)|    201|   1094|               CHI|               FRA|\n",
            "|1930|19 Jul 1930 - 15:00 |Group 1|Estadio Centenario|Montevideo |     Argentina|              6|              3|        Mexico|              |     42100|                   3|                   1|SAUCEDO Ulises (BOL)|ALONSO Gualberto ...|RADULESCU Constan...|    201|   1086|               ARG|               MEX|\n",
            "+----+--------------------+-------+------------------+-----------+--------------+---------------+---------------+--------------+--------------+----------+--------------------+--------------------+--------------------+--------------------+--------------------+-------+-------+------------------+------------------+\n",
            "only showing top 10 rows\n",
            "\n"
          ]
        }
      ]
    },
    {
      "cell_type": "code",
      "source": [
        "# Jogos acima da média de público\n",
        "jogosCopa.filter(jogosCopa.Attendance >= mediaPublico).show(10)"
      ],
      "metadata": {
        "id": "BO91cpDZG1KY",
        "colab": {
          "base_uri": "https://localhost:8080/"
        },
        "outputId": "769355f9-2e7d-4f76-b3f7-ba50945c57ef"
      },
      "execution_count": 17,
      "outputs": [
        {
          "output_type": "stream",
          "name": "stdout",
          "text": [
            "+----+--------------------+--------------+--------------------+---------------+--------------+---------------+---------------+--------------+--------------------+----------+--------------------+--------------------+--------------------+--------------------+--------------------+-------+-------+------------------+------------------+\n",
            "|Year|            Datetime|         Stage|             Stadium|           City|Home Team Name|Home Team Goals|Away Team Goals|Away Team Name|      Win conditions|Attendance|Half-time Home Goals|Half-time Away Goals|             Referee|         Assistant 1|         Assistant 2|RoundID|MatchID|Home Team Initials|Away Team Initials|\n",
            "+----+--------------------+--------------+--------------------+---------------+--------------+---------------+---------------+--------------+--------------------+----------+--------------------+--------------------+--------------------+--------------------+--------------------+-------+-------+------------------+------------------+\n",
            "|1930|18 Jul 1930 - 14:30 |       Group 3|  Estadio Centenario|    Montevideo |       Uruguay|              1|              0|          Peru|                    |     57735|                   0|                   0| LANGENUS Jean (BEL)| BALWAY Thomas (FRA)|CRISTOPHE Henry (...|    201|   1099|               URU|               PER|\n",
            "|1930|21 Jul 1930 - 14:50 |       Group 3|  Estadio Centenario|    Montevideo |       Uruguay|              4|              0|       Romania|                    |     70022|                   4|                   0| REGO Gilberto (BRA)|WARNKEN Alberto (...|SAUCEDO Ulises (BOL)|    201|   1100|               URU|               ROU|\n",
            "|1930|26 Jul 1930 - 14:45 |   Semi-finals|  Estadio Centenario|    Montevideo |     Argentina|              6|              1|           USA|                    |     72886|                   1|                   0| LANGENUS Jean (BEL)|VALLEJO Gaspar (MEX)|WARNKEN Alberto (...|    202|   1088|               ARG|               USA|\n",
            "|1930|27 Jul 1930 - 14:45 |   Semi-finals|  Estadio Centenario|    Montevideo |       Uruguay|              6|              1|    Yugoslavia|                    |     79867|                   3|                   1| REGO Gilberto (BRA)|SAUCEDO Ulises (BOL)| BALWAY Thomas (FRA)|    202|   1101|               URU|               YUG|\n",
            "|1930|30 Jul 1930 - 14:15 |         Final|  Estadio Centenario|    Montevideo |       Uruguay|              4|              2|     Argentina|                    |     68346|                   1|                   2| LANGENUS Jean (BEL)|SAUCEDO Ulises (BOL)|CRISTOPHE Henry (...|    405|   1087|               URU|               ARG|\n",
            "|1934|10 Jun 1934 - 17:30 |         Final|       Nazionale PNF|          Rome |         Italy|              2|              1|Czechoslovakia|Italy win after e...|     55000|                   0|                   0|   EKLIND Ivan (SWE)|   BAERT Louis (BEL)|IVANCSICS Mihaly ...|   3490|   1134|               ITA|               TCH|\n",
            "|1938|12 Jun 1938 - 17:00 |Quarter-finals|     Stade Olympique|      Colombes |         Italy|              3|              1|        France|                    |     58455|                   1|                   1|   BAERT Louis (BEL)|WUETHRICH Hans (SUI)|   EKLIND Ivan (SWE)|    429|   1164|               ITA|               FRA|\n",
            "|1950|24 Jun 1950 - 15:00 |       Group 1|Maracan� - Est�di...|Rio De Janeiro |        Brazil|              4|              0|        Mexico|                    |     81649|                   1|                   0| READER George (ENG)|GRIFFITHS Benjami...|MITCHELL George (...|    208|   1187|               BRA|               MEX|\n",
            "|1950|01 Jul 1950 - 15:00 |       Group 1|Maracan� - Est�di...|Rio De Janeiro |        Brazil|              2|              0|    Yugoslavia|                    |    142429|                   1|                   0|GRIFFITHS Benjami...| BERANEK Alois (AUT)|DA COSTA VIEIRA J...|    208|   1191|               BRA|               YUG|\n",
            "|1950|02 Jul 1950 - 15:00 |       Group 2|Maracan� - Est�di...|Rio De Janeiro |         Spain|              1|              0|       England|                    |     74462|                   0|                   0|GALEATI Giovanni ...|     LUTZ Jean (SUI)|DATTILO Generoso ...|    208|   1199|               ESP|               ENG|\n",
            "+----+--------------------+--------------+--------------------+---------------+--------------+---------------+---------------+--------------+--------------------+----------+--------------------+--------------------+--------------------+--------------------+--------------------+-------+-------+------------------+------------------+\n",
            "only showing top 10 rows\n",
            "\n"
          ]
        }
      ]
    },
    {
      "cell_type": "code",
      "source": [
        "# Jogos por cidade\n",
        "jogosCidade = jogosCopa.groupBy(\"City\").count() \\\n",
        "                       .withColumnRenamed('City', 'Cidade') \\\n",
        "                       .withColumnRenamed('count', 'Num. jogos')\n",
        "\n",
        "# Público total por cidade\n",
        "publicoCidade = jogosCopa.groupBy(\"City\").sum(\"Attendance\") \\\n",
        "                         .withColumnRenamed('City', 'Cidade') \\\n",
        "                         .withColumnRenamed('sum(Attendance)', 'Público total')\n",
        "\n",
        "# Análise do número de partidas e da média de público\n",
        "jogosCidade.createOrReplaceTempView(\"tempJogosCidade\")\n",
        "publicoCidade.createOrReplaceTempView(\"tempPublicoCidade\")\n",
        "queryCidade = \"\"\"\n",
        "                  select a.Cidade, \n",
        "                         a.`Num. jogos`,\n",
        "                         b.`Público total`,\n",
        "                         round(b.`Público total` / a.`Num. jogos`) as `Média público por partida` \n",
        "                  from tempJogosCidade a\n",
        "                  inner join tempPublicoCidade b\n",
        "                  on a.cidade = b.cidade\n",
        "                  order by a.`Num. jogos` desc\n",
        "              \"\"\"\n",
        "cidadesJogos = spark.sql(queryCidade)"
      ],
      "metadata": {
        "id": "gRhMxZ2u-T7t"
      },
      "execution_count": 18,
      "outputs": []
    },
    {
      "cell_type": "code",
      "source": [
        "# Amostra\n",
        "cidadesJogos.show()"
      ],
      "metadata": {
        "id": "6wyH5pE_A9nz",
        "colab": {
          "base_uri": "https://localhost:8080/"
        },
        "outputId": "409f37e7-31d6-4c43-aa41-3c194e171d64"
      },
      "execution_count": 19,
      "outputs": [
        {
          "output_type": "stream",
          "name": "stdout",
          "text": [
            "+------------------+----------+-------------+-------------------------+\n",
            "|            Cidade|Num. jogos|Público total|Média público por partida|\n",
            "+------------------+----------+-------------+-------------------------+\n",
            "|      Mexico City |        23|      2157550|                  93807.0|\n",
            "|   Rio De Janeiro |        18|      1555512|                  86417.0|\n",
            "|       Montevideo |        18|       590549|                  32808.0|\n",
            "|      Guadalajara |        17|       800456|                  47086.0|\n",
            "|     Johannesburg |        15|      1043702|                  69580.0|\n",
            "|        Sao Paulo |        14|       670476|                  47891.0|\n",
            "|     Buenos Aires |        12|       749786|                  62482.0|\n",
            "|           Munich |        11|       655500|                  59591.0|\n",
            "|             Leon |        11|       272222|                  24747.0|\n",
            "|   Belo Horizonte |        11|       483976|                  43998.0|\n",
            "|        Stuttgart |        10|       529855|                  52986.0|\n",
            "|Santiago De Chile |        10|       663771|                  66377.0|\n",
            "|   Frankfurt/Main |        10|       540000|                  54000.0|\n",
            "|    Gelsenkirchen |        10|       507050|                  50705.0|\n",
            "|         Dortmund |        10|       575659|                  57566.0|\n",
            "|           London |        10|       823696|                  82370.0|\n",
            "|         Brasilia |        10|       682685|                  68269.0|\n",
            "|            Paris |         9|       340177|                  37797.0|\n",
            "|      Saint-Denis |         9|       704000|                  78222.0|\n",
            "|            Milan |         9|       511130|                  56792.0|\n",
            "+------------------+----------+-------------+-------------------------+\n",
            "only showing top 20 rows\n",
            "\n"
          ]
        }
      ]
    },
    {
      "cell_type": "code",
      "source": [
        "# Exportar resultados\n",
        "jogosIconicos.toPandas().to_csv('jogosIconicos.csv')\n",
        "cidadesJogos.toPandas().to_csv('cidadeJogos.csv')"
      ],
      "metadata": {
        "id": "jLbU8_jDASZV"
      },
      "execution_count": 20,
      "outputs": []
    },
    {
      "cell_type": "markdown",
      "source": [
        "**Público nos jogos Brasil (*extra*)**\n",
        "---\n",
        "\n",
        "\n",
        "1.   Qual o ***maior*** público registrado em jogos do Brasil?\n",
        "2.   Qual o ***menor*** público registrado em jogos do Brasil?\n",
        "3.   Quais jogos do Brasil ficaram ***abaixo*** da média de público?\n",
        "4.   Quais jogos do Brasil ficaram ***acima*** da média de público?\n",
        "5.   Exporte os resultados em formato .csv, de acordo com:\n",
        "\n",
        "      *   Itens 1 e 2 juntos\n",
        "      *   Item 3 sozinho\n",
        "      *   Item 4 sozinho\n",
        "\n",
        "\n",
        "\n",
        "\n"
      ],
      "metadata": {
        "id": "wu3svHc_ItKE"
      }
    },
    {
      "cell_type": "code",
      "source": [
        "# Maior e menor publico jogos Brasil \n",
        "Publico = jogosCopa.groupBy(\"Home Team Name\",\"Away Team Name\").max(\"Attendance\") \\\n",
        "                         .withColumnRenamed('Home Team Name', 'Mandante') \\\n",
        "                         .withColumnRenamed('Away Team Name', 'Visitante') \\\n",
        "                         .withColumnRenamed('max(Attendance)', 'Público total')                  \n",
        "\n",
        "Publico.createOrReplaceTempView(\"tempPublicoMandante\")\n",
        "querypublicobrasil = \"\"\"\n",
        "                            select \n",
        "                                  max(`Público total`) as Max_Publico_Jogos_Brazil,\n",
        "                                  min(`Público total`) as Min_Publico_Jogos_Brazil\n",
        "                            from tempPublicoMandante\n",
        "                            where Mandante = 'Brazil'\n",
        "                            OR Visitante = 'Brazil'\n",
        "                        \"\"\"\n",
        "publicobrasil = spark.sql(querypublicobrasil)\n",
        "\n",
        "publicobrasil.show()\n"
      ],
      "metadata": {
        "id": "QlXvT39jItts",
        "colab": {
          "base_uri": "https://localhost:8080/"
        },
        "outputId": "6af7296f-02f5-42e4-ae4f-57718a3a6361"
      },
      "execution_count": 21,
      "outputs": [
        {
          "output_type": "stream",
          "name": "stdout",
          "text": [
            "+------------------------+------------------------+\n",
            "|Max_Publico_Jogos_Brazil|Min_Publico_Jogos_Brazil|\n",
            "+------------------------+------------------------+\n",
            "|                  173850|                   24059|\n",
            "+------------------------+------------------------+\n",
            "\n"
          ]
        }
      ]
    },
    {
      "cell_type": "code",
      "source": [
        "#Jogos do Brasil que ficaram abaixo da média de público\n",
        "from pyspark.sql.functions import col\n",
        "JogosBrasil = jogosCopa.filter(((col(\"Home Team Name\") == \"Brazil\") | (col(\"Away Team Name\") == \"Brazil\")))\n",
        "\n",
        "AvgBrazil = JogosBrasil.agg({\"Attendance\": \"avg\"}).collect()[0][0]\n",
        "\n",
        "JogosAbaixoMedia = JogosBrasil.filter(JogosBrasil.Attendance < AvgBrazil)\n",
        "JogosAbaixoMedia.show(10)\n",
        "\n"
      ],
      "metadata": {
        "id": "tOKwL0m9qcEt",
        "colab": {
          "base_uri": "https://localhost:8080/"
        },
        "outputId": "dd21893d-0d13-482e-d0bb-b8dc29ea9ab6"
      },
      "execution_count": 22,
      "outputs": [
        {
          "output_type": "stream",
          "name": "stdout",
          "text": [
            "+----+--------------------+--------------------+--------------------+-----------+--------------+---------------+---------------+--------------+--------------------+----------+--------------------+--------------------+--------------------+--------------------+--------------------+-------+-------+------------------+------------------+\n",
            "|Year|            Datetime|               Stage|             Stadium|       City|Home Team Name|Home Team Goals|Away Team Goals|Away Team Name|      Win conditions|Attendance|Half-time Home Goals|Half-time Away Goals|             Referee|         Assistant 1|         Assistant 2|RoundID|MatchID|Home Team Initials|Away Team Initials|\n",
            "+----+--------------------+--------------------+--------------------+-----------+--------------+---------------+---------------+--------------+--------------------+----------+--------------------+--------------------+--------------------+--------------------+--------------------+-------+-------+------------------+------------------+\n",
            "|1930|14 Jul 1930 - 12:45 |             Group 2|      Parque Central|Montevideo |    Yugoslavia|              2|              1|        Brazil|                    |     24059|                   2|                   0| TEJADA Anibal (URU)|VALLARINO Ricardo...| BALWAY Thomas (FRA)|    201|   1093|               YUG|               BRA|\n",
            "|1930|20 Jul 1930 - 13:00 |             Group 2|  Estadio Centenario|Montevideo |        Brazil|              4|              0|       Bolivia|                    |     25466|                   1|                   0| BALWAY Thomas (FRA)|MATEUCCI Francisc...|VALLEJO Gaspar (MEX)|    201|   1091|               BRA|               BOL|\n",
            "|1934|27 May 1934 - 16:30 |   Preliminary round|      Luigi Ferraris|     Genoa |         Spain|              3|              1|        Brazil|                    |     21000|                   3|                   0| BIRLEM Alfred (GER)|CARMINATI Ettore ...|IVANCSICS Mihaly ...|    204|   1111|               ESP|               BRA|\n",
            "|1938|05 Jun 1938 - 17:30 |         First round|  Stade de la Meinau|Strasbourg |        Brazil|              6|              5|        Poland|Brazil win after ...|     13452|                   0|                   0|   EKLIND Ivan (SWE)|POISSANT Louis (FRA)|KISSENBERGER Erne...|    206|   1150|               BRA|               POL|\n",
            "|1938|12 Jun 1938 - 17:00 |      Quarter-finals|Stade du Parc Les...|  Bordeaux |        Brazil|              1|              1|Czechoslovakia|                    |     22021|                   0|                   0|VON HERTZKA Pal (...|SCARPI Giuseppe (...|DE LA SALLE Charl...|    429|   1152|               BRA|               TCH|\n",
            "|1938|14 Jun 1938 - 18:00 |      Quarter-finals|Stade du Parc Les...|  Bordeaux |        Brazil|              2|              1|Czechoslovakia|                    |     18141|                   0|                   1|CAPDEVILLE George...|  MARENCO Paul (FRA)|KISSENBERGER Erne...|    429|   1153|               BRA|               TCH|\n",
            "|1938|16 Jun 1938 - 18:00 |         Semi-finals|     Stade V�lodrome|Marseilles |         Italy|              2|              1|        Brazil|                    |     33000|                   0|                   0|WUETHRICH Hans (SUI)| BERANEK Alois (AUT)|  MARENCO Paul (FRA)|   3489|   1149|               ITA|               BRA|\n",
            "|1938|19 Jun 1938 - 17:00 |Match for third p...|Stade du Parc Les...|  Bordeaux |        Brazil|              4|              2|        Sweden|                    |     12000|                   1|                   2| LANGENUS Jean (BEL)|      OLIVE D. (FRA)|VALPREDE Ferdinan...|   3488|   1151|               BRA|               SWE|\n",
            "|1950|28 Jun 1950 - 15:00 |             Group 1|            Pacaembu| Sao Paulo |        Brazil|              2|              2|   Switzerland|                    |     42032|                   2|                   1|AZON ROMA Ramon (...|BUSTAMANTE Sergio...|DE NICOLA Cayetan...|    208|   1188|               BRA|               SUI|\n",
            "|1954|16 Jun 1954 - 18:00 |             Group 1|          Charmilles|    Geneva |        Brazil|              5|              0|        Mexico|                    |     13470|                   4|                   0| WYSSLING Paul (SUI)|SCHONHOLZER Ernes...|DA COSTA VIEIRA J...|    211|   1249|               BRA|               MEX|\n",
            "+----+--------------------+--------------------+--------------------+-----------+--------------+---------------+---------------+--------------+--------------------+----------+--------------------+--------------------+--------------------+--------------------+--------------------+-------+-------+------------------+------------------+\n",
            "only showing top 10 rows\n",
            "\n"
          ]
        }
      ]
    },
    {
      "cell_type": "code",
      "source": [
        "#Jogos do Brasil que ficaram acima da média de público\n",
        "JogosBrasil = jogosCopa.filter(((col(\"Home Team Name\") == \"Brazil\") | (col(\"Away Team Name\") == \"Brazil\")))\n",
        "\n",
        "AvgBrazil = JogosBrasil.agg({\"Attendance\": \"avg\"}).collect()[0][0]\n",
        "\n",
        "JogosAcimaMedia = JogosBrasil.filter(JogosBrasil.Attendance > AvgBrazil)\n",
        "JogosAcimaMedia.show(10)"
      ],
      "metadata": {
        "id": "GkgkFuDDrQgW",
        "colab": {
          "base_uri": "https://localhost:8080/"
        },
        "outputId": "f59a87db-04a1-4e71-ac2c-00caa6217c6e"
      },
      "execution_count": 23,
      "outputs": [
        {
          "output_type": "stream",
          "name": "stdout",
          "text": [
            "+----+--------------------+-----------+--------------------+------------------+--------------+---------------+---------------+--------------+--------------+----------+--------------------+--------------------+--------------------+--------------------+--------------------+-------+-------+------------------+------------------+\n",
            "|Year|            Datetime|      Stage|             Stadium|              City|Home Team Name|Home Team Goals|Away Team Goals|Away Team Name|Win conditions|Attendance|Half-time Home Goals|Half-time Away Goals|             Referee|         Assistant 1|         Assistant 2|RoundID|MatchID|Home Team Initials|Away Team Initials|\n",
            "+----+--------------------+-----------+--------------------+------------------+--------------+---------------+---------------+--------------+--------------+----------+--------------------+--------------------+--------------------+--------------------+--------------------+-------+-------+------------------+------------------+\n",
            "|1950|24 Jun 1950 - 15:00 |    Group 1|Maracan� - Est�di...|   Rio De Janeiro |        Brazil|              4|              0|        Mexico|              |     81649|                   1|                   0| READER George (ENG)|GRIFFITHS Benjami...|MITCHELL George (...|    208|   1187|               BRA|               MEX|\n",
            "|1950|01 Jul 1950 - 15:00 |    Group 1|Maracan� - Est�di...|   Rio De Janeiro |        Brazil|              2|              0|    Yugoslavia|              |    142429|                   1|                   0|GRIFFITHS Benjami...| BERANEK Alois (AUT)|DA COSTA VIEIRA J...|    208|   1191|               BRA|               YUG|\n",
            "|1950|09 Jul 1950 - 15:00 |    Group 6|Maracan� - Est�di...|   Rio De Janeiro |        Brazil|              7|              1|        Sweden|              |    138886|                   3|                   0|  ELLIS Arthur (ENG)|GARCIA Prudencio ...|DE LA SALLE Charl...|    209|   1189|               BRA|               SWE|\n",
            "|1950|13 Jul 1950 - 15:00 |    Group 6|Maracan� - Est�di...|   Rio De Janeiro |        Brazil|              6|              1|         Spain|              |    152772|                   3|                   0|LEAFE Reginald (ENG)|MITCHELL George (...|DA COSTA VIEIRA J...|    209|   1186|               BRA|               ESP|\n",
            "|1950|16 Jul 1950 - 15:00 |    Group 6|Maracan� - Est�di...|   Rio De Janeiro |       Uruguay|              2|              1|        Brazil|              |    173850|                   0|                   0| READER George (ENG)|  ELLIS Arthur (ENG)|MITCHELL George (...|    209|   1190|               URU|               BRA|\n",
            "|1962|13 Jun 1962 - 14:30 |Semi-finals|            Nacional|Santiago De Chile |        Brazil|              4|              2|         Chile|              |     76594|                   2|                   1|YAMASAKI MALDONAD...|MARINO Esteban (URU)|VENTRE Luis Anton...|    514|   1458|               BRA|               CHI|\n",
            "|1962|17 Jun 1962 - 14:30 |      Final|            Nacional|Santiago De Chile |        Brazil|              3|              1|Czechoslovakia|              |     68679|                   1|                   1|LATYCHEV Nikolaj ...|      HORN Leo (NED)|  DAVIDSON Bob (SCO)|   3480|   1463|               BRA|               TCH|\n",
            "|1966|19 Jul 1966 - 19:30 |    Group 3|       Goodison Park|        Liverpool |      Portugal|              3|              1|        Brazil|              |     58479|                   2|                   0| McCABE George (ENG)| CALLAGHAN Leo (WAL)|DAGNALL Kenneth (...|    238|   1598|               POR|               BRA|\n",
            "|1970|07 Jun 1970 - 12:00 |    Group 3|             Jalisco|      Guadalajara |        Brazil|              1|              0|       England|              |     66843|                   0|                   0| KLEIN Abraham (ISR)|YAMASAKI MALDONAD...|  MACHIN Roger (FRA)|    250|   1764|               BRA|               ENG|\n",
            "|1970|21 Jun 1970 - 12:00 |      Final|      Estadio Azteca|      Mexico City |        Brazil|              4|              1|         Italy|              |    107412|                   1|                   1|GLOECKNER Rudolf ...|SCHEURER Ruedi (SUI)|COEREZZA Norberto...|   3476|   1765|               BRA|               ITA|\n",
            "+----+--------------------+-----------+--------------------+------------------+--------------+---------------+---------------+--------------+--------------+----------+--------------------+--------------------+--------------------+--------------------+--------------------+-------+-------+------------------+------------------+\n",
            "only showing top 10 rows\n",
            "\n"
          ]
        }
      ]
    },
    {
      "cell_type": "code",
      "source": [
        "# Exportar resultados\n",
        "publicobrasil.toPandas().to_csv('publicobrasil.csv')\n",
        "JogosAbaixoMedia.toPandas().to_csv('JogosAbaixoMedia.csv')\n",
        "JogosAcimaMedia.toPandas().to_csv('JogosAcimaMedia.csv')"
      ],
      "metadata": {
        "id": "guaVuinyry-i"
      },
      "execution_count": 24,
      "outputs": []
    },
    {
      "cell_type": "markdown",
      "source": [
        "# ***Resultados das partidas***"
      ],
      "metadata": {
        "id": "9IJWmgS3LraI"
      }
    },
    {
      "cell_type": "code",
      "source": [
        "# Resultados jogos\n",
        "resultadosJogos = jogosCopa.select('Home Team Name', \n",
        "                                   'Away Team Name', \n",
        "                                   'Home Team Goals', \n",
        "                                   'Away Team Goals',\n",
        "                                   'Home Team Initials',\n",
        "                                   'Away Team Initials') \\\n",
        "                           .withColumnRenamed('Home Team Name', 'Mandante') \\\n",
        "                           .withColumnRenamed('Away Team Name', 'Visitante') \\\n",
        "                           .withColumnRenamed('Home Team Goals', 'Gols em casa') \\\n",
        "                           .withColumnRenamed('Away Team Goals', 'Gols visitante') \\\n",
        "                           .withColumnRenamed('Home Team Initials', 'Sigla Mandante') \\\n",
        "                           .withColumnRenamed('Away Team Initials', 'Sigla Visitante')\n",
        "\n",
        "# Diferença de gols por jogo\n",
        "queryDiffGols = \"\"\"\n",
        "                    select  Mandante,\n",
        "                            Visitante, \n",
        "                            Gols_Casa, \n",
        "                            Gols_Fora, \n",
        "                            diff as Saldo\n",
        "                      from \n",
        "                      ( \n",
        "                            select Mandante, \n",
        "                                   Visitante, \n",
        "                                  `Gols em casa` AS Gols_Casa, \n",
        "                                  `Gols visitante` AS Gols_Fora, \n",
        "                                   abs(`Gols em casa` - `Gols visitante`) as diff \n",
        "                            from tempResultados \n",
        "                      )\n",
        "                      order by diff desc\n",
        "                \"\"\"\n",
        "\n",
        "resultadosJogos.createOrReplaceTempView(\"tempResultados\")\n",
        "golsResultados=spark.sql(queryDiffGols)"
      ],
      "metadata": {
        "id": "LEF711bKEuKs"
      },
      "execution_count": 25,
      "outputs": []
    },
    {
      "cell_type": "code",
      "source": [
        "# Ordenado por maior saldo em ordem decrescente\n",
        "golsResultados.show(10)"
      ],
      "metadata": {
        "id": "AqrcKEfdIOBW",
        "colab": {
          "base_uri": "https://localhost:8080/"
        },
        "outputId": "37471cc7-d751-4f32-bc44-a179df7fd7aa"
      },
      "execution_count": 26,
      "outputs": [
        {
          "output_type": "stream",
          "name": "stdout",
          "text": [
            "+----------+--------------+---------+---------+-----+\n",
            "|  Mandante|     Visitante|Gols_Casa|Gols_Fora|Saldo|\n",
            "+----------+--------------+---------+---------+-----+\n",
            "|   Hungary|   El Salvador|       10|        1|    9|\n",
            "|Yugoslavia|         Zaire|        9|        0|    9|\n",
            "|   Hungary|Korea Republic|        9|        0|    9|\n",
            "|    Sweden|          Cuba|        8|        0|    8|\n",
            "|   Germany|  Saudi Arabia|        8|        0|    8|\n",
            "|   Uruguay|       Bolivia|        8|        0|    8|\n",
            "|    Turkey|Korea Republic|        7|        0|    7|\n",
            "|     Haiti|        Poland|        0|        7|    7|\n",
            "|   Uruguay|      Scotland|        7|        0|    7|\n",
            "|  Portugal|     Korea DPR|        7|        0|    7|\n",
            "+----------+--------------+---------+---------+-----+\n",
            "only showing top 10 rows\n",
            "\n"
          ]
        }
      ]
    },
    {
      "cell_type": "code",
      "source": [
        "# Consulta jogos Brasil (vitórias, derrotas e empates)\n",
        "queryJogosBrasil = \"\"\"\n",
        "                        select resultado, \n",
        "                               count(*) as qtd\n",
        "                        from \n",
        "                        (\n",
        "                            select local, \n",
        "                                   case when diff > 0 then 'vitoria'\n",
        "                                        when diff = 0 then 'empate'\n",
        "                                        else 'derrota'\n",
        "                                   end as resultado\n",
        "                            from \n",
        "                            ( \n",
        "                                  select 'Mandante' as local, \n",
        "                                         `Gols em casa` - `Gols visitante` as diff \n",
        "                                  from tempResultados \n",
        "                                  where `Sigla Mandante` = 'BRA'\n",
        "                            )\n",
        "\n",
        "                            union all\n",
        "\n",
        "                            select local, \n",
        "                                   case when diff < 0 then 'vitoria'\n",
        "                                        when diff = 0 then 'empate'\n",
        "                                        else 'derrota'\n",
        "                                   end as resultado\n",
        "                            from \n",
        "                            ( \n",
        "                                  select 'Visitante' as local, \n",
        "                                         `Gols em casa` - `Gols visitante` as diff \n",
        "                                  from tempResultados \n",
        "                                  where `Sigla Visitante` = 'BRA'\n",
        "                            )\n",
        "                        )\n",
        "                        group by resultado\n",
        "                   \"\"\"\n",
        "\n",
        "brasilResultados=spark.sql(queryJogosBrasil)"
      ],
      "metadata": {
        "id": "5fZHfC2jNmKo"
      },
      "execution_count": 27,
      "outputs": []
    },
    {
      "cell_type": "code",
      "source": [
        "# Jogos Brasil\n",
        "brasilResultados.show()"
      ],
      "metadata": {
        "id": "y8vAeFSzEUjv",
        "colab": {
          "base_uri": "https://localhost:8080/"
        },
        "outputId": "4cfe8d93-4792-48cf-f5d2-7458df8f2854"
      },
      "execution_count": 28,
      "outputs": [
        {
          "output_type": "stream",
          "name": "stdout",
          "text": [
            "+---------+---+\n",
            "|resultado|qtd|\n",
            "+---------+---+\n",
            "|  derrota| 19|\n",
            "|  vitoria| 71|\n",
            "|   empate| 18|\n",
            "+---------+---+\n",
            "\n"
          ]
        }
      ]
    },
    {
      "cell_type": "code",
      "source": [
        "# Porcentagem de vitórias, derrotas e empates\n",
        "vitorias = brasilResultados.filter(brasilResultados['resultado'] == 'vitoria').collect()[0][1]\n",
        "derrotas = brasilResultados.filter(brasilResultados['resultado'] == 'derrota').collect()[0][1]\n",
        "empates = brasilResultados.filter(brasilResultados['resultado'] == 'empate').collect()[0][1]\n",
        "totalJogos = vitorias + derrotas + empates\n",
        "\n",
        "print('Total de jogos: ' + str(totalJogos))\n",
        "print('Vitorias: ' + str(round(100*(vitorias/totalJogos), 2)) + '%')\n",
        "print('Derrotas: ' + str(round(100*(derrotas/totalJogos), 2)) + '%')\n",
        "print('Empates: ' + str(round(100*(empates/totalJogos), 2)) + '%')"
      ],
      "metadata": {
        "id": "m4qHQIl-Exh1",
        "colab": {
          "base_uri": "https://localhost:8080/"
        },
        "outputId": "01b3353d-9966-4901-fbd8-707b6a46c1e5"
      },
      "execution_count": 29,
      "outputs": [
        {
          "output_type": "stream",
          "name": "stdout",
          "text": [
            "Total de jogos: 108\n",
            "Vitorias: 65.74%\n",
            "Derrotas: 17.59%\n",
            "Empates: 16.67%\n"
          ]
        }
      ]
    },
    {
      "cell_type": "code",
      "source": [
        "# Adversários Brasil\n",
        "queryAdversariosBrasil = \"\"\"\n",
        "                                select adversario,\n",
        "                                       sum(qtd_partidas) as qtd_partidas\n",
        "                                from \n",
        "                                (\n",
        "                                    select `Sigla Visitante` as adversario,\n",
        "                                           count(*) as qtd_partidas\n",
        "                                    from tempResultados \n",
        "                                    where `Sigla Mandante` = 'BRA'\n",
        "                                    group by `Sigla Visitante`\n",
        "\n",
        "                                    union all\n",
        "\n",
        "                                    select `Sigla Mandante` as adversario,\n",
        "                                           count(*) as qtd_partidas\n",
        "                                    from tempResultados \n",
        "                                    where `Sigla Visitante` = 'BRA'\n",
        "                                    group by `Sigla Mandante`\n",
        "                                )\n",
        "                                group by adversario\n",
        "                                order by qtd_partidas desc\n",
        "                         \"\"\"\n",
        "\n",
        "brasilAdversarios=spark.sql(queryAdversariosBrasil)"
      ],
      "metadata": {
        "id": "jLV76Vd8Kv8N"
      },
      "execution_count": 30,
      "outputs": []
    },
    {
      "cell_type": "code",
      "source": [
        "# Adversários Brasil em quantidade de partidas ordem decrescente\n",
        "brasilAdversarios.show()"
      ],
      "metadata": {
        "id": "Qy00tAs8NEQi",
        "colab": {
          "base_uri": "https://localhost:8080/"
        },
        "outputId": "09ec6ccd-d1af-4c14-b5f6-d55f0b6eb5c5"
      },
      "execution_count": 31,
      "outputs": [
        {
          "output_type": "stream",
          "name": "stdout",
          "text": [
            "+----------+------------+\n",
            "|adversario|qtd_partidas|\n",
            "+----------+------------+\n",
            "|       SWE|           7|\n",
            "|       NED|           6|\n",
            "|       ITA|           5|\n",
            "|       CHI|           5|\n",
            "|       TCH|           5|\n",
            "|       ESP|           5|\n",
            "|       ARG|           4|\n",
            "|       POL|           4|\n",
            "|       FRA|           4|\n",
            "|       SCO|           4|\n",
            "|       YUG|           4|\n",
            "|       MEX|           4|\n",
            "|       ENG|           4|\n",
            "|       GER|           3|\n",
            "|       CMR|           2|\n",
            "|       URU|           2|\n",
            "|       PER|           2|\n",
            "|       CRC|           2|\n",
            "|       TUR|           2|\n",
            "|       COL|           2|\n",
            "+----------+------------+\n",
            "only showing top 20 rows\n",
            "\n"
          ]
        }
      ]
    },
    {
      "cell_type": "code",
      "source": [
        "# Exportar resultados\n",
        "golsResultados.toPandas().to_csv('golsResultados.csv')\n",
        "brasilAdversarios.toPandas().to_csv('brasilAdversarios.csv')"
      ],
      "metadata": {
        "id": "wPZQcsbrHbFR"
      },
      "execution_count": 32,
      "outputs": []
    },
    {
      "cell_type": "markdown",
      "source": [
        "**Resultados partidas BRAxGER e histórico (*extra*)**\n",
        "---\n",
        "\n",
        "\n",
        "1.   Qual o ***empate*** com o maior número de gols na história das copas?\n",
        "2.   Qual o ***número*** de derrotas, vitórias e empates em partidas do Brasil com a Alemanha?\n",
        "3.   Qual a ***porcentagem*** de derrotas, vitórias e empates em partidas do Brasil com a Alemanha?\n",
        "4.   Qual a ***maior derrota*** sofrida pelo Brasil?\n",
        "5.   Qual a ***maior vitória*** do Brasil?\n",
        "6.   Exportar os resultados no formato .csv, de acordo com: \n",
        "     *   Item 1 separadamente\n",
        "     *   Itens 2 e 3 juntos em um único arquivo\n",
        "     *   Itens 4 e 5 juntos em um único arquivo"
      ],
      "metadata": {
        "id": "4R2TQ3wkK92y"
      }
    },
    {
      "cell_type": "code",
      "source": [
        "#Maior Empate\n",
        "JogosEmpate = jogosCopa.filter(col('Home Team Goals') == col('Away Team Goals'))\n",
        "\n",
        "Empate = JogosEmpate.agg({\"Home Team Goals\": \"max\"}).collect()[0][0]\n",
        "\n",
        "JogosEmpate.filter(JogosEmpate['Home Team Goals'] == Empate).show()"
      ],
      "metadata": {
        "id": "ep5GHsRPK-_0",
        "colab": {
          "base_uri": "https://localhost:8080/"
        },
        "outputId": "797571ff-22c8-40cc-9972-921578024b2d"
      },
      "execution_count": 33,
      "outputs": [
        {
          "output_type": "stream",
          "name": "stdout",
          "text": [
            "+----+--------------------+-------+---------------+------+--------------+---------------+---------------+--------------+--------------+----------+--------------------+--------------------+--------------------+--------------------+-------------------+-------+-------+------------------+------------------+\n",
            "|Year|            Datetime|  Stage|        Stadium|  City|Home Team Name|Home Team Goals|Away Team Goals|Away Team Name|Win conditions|Attendance|Half-time Home Goals|Half-time Away Goals|             Referee|         Assistant 1|        Assistant 2|RoundID|MatchID|Home Team Initials|Away Team Initials|\n",
            "+----+--------------------+-------+---------------+------+--------------+---------------+---------------+--------------+--------------+----------+--------------------+--------------------+--------------------+--------------------+-------------------+-------+-------+------------------+------------------+\n",
            "|1954|17 Jun 1954 - 18:10 |Group 4|      St. Jakob|Basel |       England|              4|              4|       Belgium|              |     14000|                   0|                   0|SCHMETZER Emil (FRG)|BUCHMUELLER Fritz...| RUFFLI Willy (SUI)|    211|   1240|               ENG|               BEL|\n",
            "|1962|03 Jun 1962 - 15:00 |Group 1|Carlos Dittborn|Arica |  Soviet Union|              4|              4|      Colombia|              |      8040|                   3|                   1|ETZEL FILHO Joao ...|  DOROGI Andor (HUN)|ROBLES Carlos (CHI)|    231|   1478|               URS|               COL|\n",
            "+----+--------------------+-------+---------------+------+--------------+---------------+---------------+--------------+--------------+----------+--------------------+--------------------+--------------------+--------------------+-------------------+-------+-------+------------------+------------------+\n",
            "\n"
          ]
        }
      ]
    },
    {
      "cell_type": "code",
      "source": [
        "#Qual o número de derrotas, vitórias e empates em partidas do Brasil com a Alemanha?\n",
        "\n",
        "\n",
        "\n",
        "\n"
      ],
      "metadata": {
        "id": "E7AjIfT2--aa"
      },
      "execution_count": 34,
      "outputs": []
    },
    {
      "cell_type": "markdown",
      "source": [
        "# ***Seleção 1970***"
      ],
      "metadata": {
        "id": "ShvGtpgZXqrs"
      }
    },
    {
      "cell_type": "code",
      "source": [
        "# Jogadores Ano 1970\n",
        "jogosCopa.createOrReplaceTempView(\"tempJogos\")\n",
        "jogadoresCopa.createOrReplaceTempView(\"tempJogadores\")\n",
        "\n",
        "queryJogadores1970 = \"\"\"\n",
        "                          select  roundID,\n",
        "                                  matchID,\n",
        "                                  `Team Initials`,\n",
        "                                  `Coach Name`,\n",
        "                                  `Line-up`,\n",
        "                                  `Shirt Number`,\n",
        "                                  `Player Name`,\n",
        "                                  position,\n",
        "                                  event\n",
        "                          from tempJogadores \n",
        "                          where matchID in\n",
        "                          (\n",
        "                              select matchID\n",
        "                              from tempJogos\n",
        "                              where year = 1970\n",
        "                          )\n",
        "                     \"\"\"\n",
        "\n",
        "jogadores1970=spark.sql(queryJogadores1970)"
      ],
      "metadata": {
        "id": "AQynAetOXGz4"
      },
      "execution_count": 35,
      "outputs": []
    },
    {
      "cell_type": "code",
      "source": [
        "# Amostra \n",
        "jogadores1970.show(10)"
      ],
      "metadata": {
        "id": "9smR-hWma2N8",
        "colab": {
          "base_uri": "https://localhost:8080/"
        },
        "outputId": "ead2dffd-3a1d-43ad-bff0-52d3fef64b1d"
      },
      "execution_count": 36,
      "outputs": [
        {
          "output_type": "stream",
          "name": "stdout",
          "text": [
            "+-------+-------+-------------+--------------------+-------+------------+--------------------+--------+-----+\n",
            "|roundID|matchID|Team Initials|          Coach Name|Line-up|Shirt Number|         Player Name|position|event|\n",
            "+-------+-------+-------------+--------------------+-------+------------+--------------------+--------+-----+\n",
            "|    250|   1902|          MEX| CARDENAS Raul (MEX)|      S|           1|    Ignacio CALDERON|      GK| null|\n",
            "|    250|   1902|          URS|KACHALIN Gavril (...|      S|           2|  Anzor KAVAZASHVILI|      GK| null|\n",
            "|    250|   1902|          MEX| CARDENAS Raul (MEX)|      S|           3|        Gustavo PENA|       C|  Y1'|\n",
            "|    250|   1902|          URS|KACHALIN Gavril (...|      S|           5|  Vladimir KAPLICHNI|    null| null|\n",
            "|    250|   1902|          MEX| CARDENAS Raul (MEX)|      S|           5|         Mario PEREZ|    null| null|\n",
            "|    250|   1902|          URS|KACHALIN Gavril (...|      S|           6|      Evgeni LOVCHEV|    null| Y34'|\n",
            "|    250|   1902|          MEX| CARDENAS Raul (MEX)|      S|           6| Guillermo HERNANDEZ|    null| null|\n",
            "|    250|   1902|          URS|KACHALIN Gavril (...|      S|           7|     Gennadi LOGOFET|    null|  Y1'|\n",
            "|    250|   1902|          MEX| CARDENAS Raul (MEX)|      S|          10|Horacio LOPEZ SAL...|    null| null|\n",
            "|    250|   1902|          URS|KACHALIN Gavril (...|      S|           9|  Albert SHESTERNYOV|       C| null|\n",
            "+-------+-------+-------------+--------------------+-------+------------+--------------------+--------+-----+\n",
            "only showing top 10 rows\n",
            "\n"
          ]
        }
      ]
    },
    {
      "cell_type": "code",
      "source": [
        "# Seleção Brasil\n",
        "jogadores1970.createOrReplaceTempView(\"tempJogadores1970\")\n",
        "queryJogadoresBrasil1970 = \"\"\"\n",
        "                               select distinct `Shirt Number` as `Num. Camisa`,\n",
        "                                               `Player Name` as `Jogador` \n",
        "                               from tempJogadores1970\n",
        "                               where `Team Initials` = 'BRA'\n",
        "                               order by `Num. Camisa` asc\n",
        "                           \"\"\"\n",
        "\n",
        "selecao1970=spark.sql(queryJogadoresBrasil1970)"
      ],
      "metadata": {
        "id": "yGJIhXa7cOSa"
      },
      "execution_count": 37,
      "outputs": []
    },
    {
      "cell_type": "code",
      "source": [
        "# Amostra\n",
        "selecao1970.show()"
      ],
      "metadata": {
        "id": "9h8HzqLldig-",
        "colab": {
          "base_uri": "https://localhost:8080/"
        },
        "outputId": "6c763294-9c52-4587-c1ba-14388b12966a"
      },
      "execution_count": 38,
      "outputs": [
        {
          "output_type": "stream",
          "name": "stdout",
          "text": [
            "+-----------+--------------------+\n",
            "|Num. Camisa|             Jogador|\n",
            "+-----------+--------------------+\n",
            "|          1|               FELIX|\n",
            "|          2|               BRITO|\n",
            "|          3|       WILSON PIAZZA|\n",
            "|          4|      CARLOS ALBERTO|\n",
            "|          5|           CLODOALDO|\n",
            "|          6|       MARCO ANTONIO|\n",
            "|          7|           JAIRZINHO|\n",
            "|          8|              GERSON|\n",
            "|          9|              TOSTAO|\n",
            "|         10|PEL� (Edson Arant...|\n",
            "|         11|            RIVELINO|\n",
            "|         12|                 ADO|\n",
            "|         13|             ROBERTO|\n",
            "|         14|            BALDOCHI|\n",
            "|         15|             FONTANA|\n",
            "|         16|            EVERALDO|\n",
            "|         17|        JOEL CAMARGO|\n",
            "|         18|         PAULO CESAR|\n",
            "|         19|                 EDU|\n",
            "|         20|               DARIO|\n",
            "+-----------+--------------------+\n",
            "only showing top 20 rows\n",
            "\n"
          ]
        }
      ]
    },
    {
      "cell_type": "code",
      "source": [
        "# Final 1970\n",
        "idJogo = jogosCopa.filter((jogosCopa.Stage == 'Final') & (jogosCopa.Year == 1970)).collect()[0][17]"
      ],
      "metadata": {
        "id": "3HtkIJ8SfBUG"
      },
      "execution_count": 39,
      "outputs": []
    },
    {
      "cell_type": "code",
      "source": [
        "# Eventos Final 1970\n",
        "queryFinal1970 = \"\"\"\n",
        "                      select `Player Name` as Jogador,\n",
        "                              event as Evento\n",
        "                      from tempJogadores\n",
        "                      where matchId = {0}\n",
        "                      and {1} is not null\n",
        "                 \"\"\".format(idJogo, 'event')\n",
        "eventosFinal1970=spark.sql(queryFinal1970)"
      ],
      "metadata": {
        "id": "k_zlwi6ijd3e"
      },
      "execution_count": 40,
      "outputs": []
    },
    {
      "cell_type": "code",
      "source": [
        "print(queryFinal1970)"
      ],
      "metadata": {
        "id": "IKR5msJCRDUF",
        "colab": {
          "base_uri": "https://localhost:8080/"
        },
        "outputId": "55f06cea-035f-44f7-a4b9-ea38739f7b44"
      },
      "execution_count": 41,
      "outputs": [
        {
          "output_type": "stream",
          "name": "stdout",
          "text": [
            "\n",
            "                      select `Player Name` as Jogador,\n",
            "                              event as Evento\n",
            "                      from tempJogadores\n",
            "                      where matchId = 1765\n",
            "                      and event is not null\n",
            "                 \n"
          ]
        }
      ]
    },
    {
      "cell_type": "code",
      "source": [
        "# Amostra\n",
        "eventosFinal1970.show()"
      ],
      "metadata": {
        "id": "TQrDqJTtvpyn",
        "colab": {
          "base_uri": "https://localhost:8080/"
        },
        "outputId": "0d1f8181-fb9f-4d0e-dc07-282b00ef00fe"
      },
      "execution_count": 42,
      "outputs": [
        {
          "output_type": "stream",
          "name": "stdout",
          "text": [
            "+--------------------+---------+\n",
            "|             Jogador|   Evento|\n",
            "+--------------------+---------+\n",
            "|   Tarcisio BURGNICH|      Y1'|\n",
            "|      CARLOS ALBERTO|     G86'|\n",
            "|           JAIRZINHO|     G71'|\n",
            "|       Mario BERTINI|     O74'|\n",
            "|              GERSON|     G66'|\n",
            "|PEL� (Edson Arant...|     G18'|\n",
            "|            RIVELINO|      Y1'|\n",
            "|  Roberto BONINSEGNA|G37' O84'|\n",
            "|       Gianni RIVERA|     I84'|\n",
            "|     Antonio JULIANO|     I74'|\n",
            "+--------------------+---------+\n",
            "\n"
          ]
        }
      ]
    },
    {
      "cell_type": "code",
      "source": [
        "# Gols marcados ao longo da Copa 1970\n",
        "queryGols1970 = \"\"\"\n",
        "                      select `Player Name` as Jogador,\n",
        "                              sum(length(regexp_replace(event, '[^G]', ''))) as Gols\n",
        "                      from tempJogadores\n",
        "                      where matchID in\n",
        "                      (\n",
        "                        select matchID\n",
        "                        from tempJogos\n",
        "                        where year = 1970\n",
        "                        and (`Home Team Initials` = 'BRA' or `Away Team Initials` = 'BRA')\n",
        "                      )\n",
        "                      and event like '%G%'\n",
        "                      and `Team Initials` = 'BRA'\n",
        "                      group by `Player Name`\n",
        "                      order by Gols desc\n",
        "                 \"\"\"\n",
        "\n",
        "golsBrasil1970=spark.sql(queryGols1970)"
      ],
      "metadata": {
        "id": "8xm7Lw-XyCuL"
      },
      "execution_count": 43,
      "outputs": []
    },
    {
      "cell_type": "code",
      "source": [
        "# Amostra\n",
        "golsBrasil1970.show()"
      ],
      "metadata": {
        "id": "SODVz68H1LiC",
        "colab": {
          "base_uri": "https://localhost:8080/"
        },
        "outputId": "64b8d4fe-2a3a-4564-b5f4-84226674b941"
      },
      "execution_count": 44,
      "outputs": [
        {
          "output_type": "stream",
          "name": "stdout",
          "text": [
            "+--------------------+----+\n",
            "|             Jogador|Gols|\n",
            "+--------------------+----+\n",
            "|           JAIRZINHO|   7|\n",
            "|PEL� (Edson Arant...|   4|\n",
            "|            RIVELINO|   3|\n",
            "|              TOSTAO|   2|\n",
            "|              GERSON|   1|\n",
            "|           CLODOALDO|   1|\n",
            "|      CARLOS ALBERTO|   1|\n",
            "+--------------------+----+\n",
            "\n"
          ]
        }
      ]
    },
    {
      "cell_type": "code",
      "source": [
        "# Exportar resultados\n",
        "selecao1970.toPandas().to_csv('selecao1970.csv')\n",
        "golsBrasil1970.toPandas().to_csv('golsBrasil1970.csv')\n",
        "eventosFinal1970.toPandas().to_csv('eventosFinal1970.csv')"
      ],
      "metadata": {
        "id": "ZxUeAKlI44Cu"
      },
      "execution_count": 45,
      "outputs": []
    },
    {
      "cell_type": "markdown",
      "source": [
        "**Extra**\n",
        "---\n",
        "\n",
        "\n",
        "1.   Fazer as mesmas análises para a seleção de **1998**\n",
        "2.   Exportar, separadamente, os reultados no formato .csv"
      ],
      "metadata": {
        "id": "IpF3T7lqMMVN"
      }
    },
    {
      "cell_type": "code",
      "source": [
        "#\n",
        "# \n",
        "# ESCREVA AQUI!!\n",
        "#\n",
        "#"
      ],
      "metadata": {
        "id": "ltIZcECHMZM8"
      },
      "execution_count": 46,
      "outputs": []
    }
  ]
}
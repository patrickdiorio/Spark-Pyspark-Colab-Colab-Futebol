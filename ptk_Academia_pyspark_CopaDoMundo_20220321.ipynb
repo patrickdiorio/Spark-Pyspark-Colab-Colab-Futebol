{
  "nbformat": 4,
  "nbformat_minor": 0,
  "metadata": {
    "colab": {
      "name": "ptk_Academia_pyspark_CopaDoMundo_20220321.ipynb",
      "provenance": [],
      "collapsed_sections": [],
      "include_colab_link": true
    },
    "kernelspec": {
      "name": "python3",
      "display_name": "Python 3"
    },
    "language_info": {
      "name": "python"
    }
  },
  "cells": [
    {
      "cell_type": "markdown",
      "metadata": {
        "id": "view-in-github",
        "colab_type": "text"
      },
      "source": [
        "<a href=\"https://colab.research.google.com/github/patrickdiorio/Spark-Pyspark-Colab-SQL-CopadoMundo/blob/main/ptk_Academia_pyspark_CopaDoMundo_20220321.ipynb\" target=\"_parent\"><img src=\"https://colab.research.google.com/assets/colab-badge.svg\" alt=\"Open In Colab\"/></a>"
      ]
    },
    {
      "cell_type": "markdown",
      "source": [
        "# ***Configuração ambiente***"
      ],
      "metadata": {
        "id": "ouvyCest9dMO"
      }
    },
    {
      "cell_type": "code",
      "execution_count": 1,
      "metadata": {
        "colab": {
          "base_uri": "https://localhost:8080/"
        },
        "id": "wfmgmy9JpTQj",
        "outputId": "696179b4-7ce7-4364-b6c9-64bbd87b65bc"
      },
      "outputs": [
        {
          "output_type": "stream",
          "name": "stdout",
          "text": [
            "Collecting pyspark\n",
            "  Downloading pyspark-3.2.1.tar.gz (281.4 MB)\n",
            "\u001b[K     |████████████████████████████████| 281.4 MB 30 kB/s \n",
            "\u001b[?25hCollecting py4j==0.10.9.3\n",
            "  Downloading py4j-0.10.9.3-py2.py3-none-any.whl (198 kB)\n",
            "\u001b[K     |████████████████████████████████| 198 kB 66.2 MB/s \n",
            "\u001b[?25hBuilding wheels for collected packages: pyspark\n",
            "  Building wheel for pyspark (setup.py) ... \u001b[?25l\u001b[?25hdone\n",
            "  Created wheel for pyspark: filename=pyspark-3.2.1-py2.py3-none-any.whl size=281853642 sha256=5083fd8af555931516c29f6735a2442487a891067677d9c30349cabfa606a3c8\n",
            "  Stored in directory: /root/.cache/pip/wheels/9f/f5/07/7cd8017084dce4e93e84e92efd1e1d5334db05f2e83bcef74f\n",
            "Successfully built pyspark\n",
            "Installing collected packages: py4j, pyspark\n",
            "Successfully installed py4j-0.10.9.3 pyspark-3.2.1\n"
          ]
        }
      ],
      "source": [
        "# Instalacao pyspark\n",
        "!pip install pyspark"
      ]
    },
    {
      "cell_type": "code",
      "source": [
        "# Iniciar sessão pyspark\n",
        "from pyspark.sql import SparkSession\n",
        "\n",
        "spark = SparkSession.builder\\\n",
        "        .master(\"local\")\\\n",
        "        .appName(\"Colab\")\\\n",
        "        .config('spark.ui.port', '4050')\\\n",
        "        .getOrCreate()"
      ],
      "metadata": {
        "id": "W0A4fK47qgXZ"
      },
      "execution_count": 2,
      "outputs": []
    },
    {
      "cell_type": "code",
      "source": [
        "# Versão spark\n",
        "spark"
      ],
      "metadata": {
        "colab": {
          "base_uri": "https://localhost:8080/",
          "height": 219
        },
        "id": "wrCCf5RZqtOW",
        "outputId": "1a27cb39-d1b7-4880-95f4-0b4d0e770e9d"
      },
      "execution_count": 3,
      "outputs": [
        {
          "output_type": "execute_result",
          "data": {
            "text/plain": [
              "<pyspark.sql.session.SparkSession at 0x7f4d63a663d0>"
            ],
            "text/html": [
              "\n",
              "            <div>\n",
              "                <p><b>SparkSession - in-memory</b></p>\n",
              "                \n",
              "        <div>\n",
              "            <p><b>SparkContext</b></p>\n",
              "\n",
              "            <p><a href=\"http://6f3e965f0209:4050\">Spark UI</a></p>\n",
              "\n",
              "            <dl>\n",
              "              <dt>Version</dt>\n",
              "                <dd><code>v3.2.1</code></dd>\n",
              "              <dt>Master</dt>\n",
              "                <dd><code>local</code></dd>\n",
              "              <dt>AppName</dt>\n",
              "                <dd><code>Colab</code></dd>\n",
              "            </dl>\n",
              "        </div>\n",
              "        \n",
              "            </div>\n",
              "        "
            ]
          },
          "metadata": {},
          "execution_count": 3
        }
      ]
    },
    {
      "cell_type": "code",
      "source": [
        "# Versão python\n",
        "!python --version"
      ],
      "metadata": {
        "colab": {
          "base_uri": "https://localhost:8080/"
        },
        "id": "nu53D3Vm-y-G",
        "outputId": "b12fbecf-f59b-4977-d276-8499d59e7277"
      },
      "execution_count": 4,
      "outputs": [
        {
          "output_type": "stream",
          "name": "stdout",
          "text": [
            "Python 3.7.13\n"
          ]
        }
      ]
    },
    {
      "cell_type": "code",
      "source": [
        "# Bibliotecas necessárias\n",
        "from pyspark.sql import *\n",
        "from pandas import *\n",
        "from google.colab import files\n",
        "from pyspark import SparkFiles"
      ],
      "metadata": {
        "id": "nu8fYWCDGnWN"
      },
      "execution_count": 5,
      "outputs": []
    },
    {
      "cell_type": "markdown",
      "source": [
        "# ***Copa do Mundo .csv***"
      ],
      "metadata": {
        "id": "v9Pg1IE89k44"
      }
    },
    {
      "cell_type": "code",
      "source": [
        "# Leitura dos arquivos .csv localizados nas url's abaixo\n",
        "url1 = 'https://raw.githubusercontent.com/aureliolucassilva/spark/main/WorldCupMatches.csv'\n",
        "url2 = 'https://raw.githubusercontent.com/aureliolucassilva/spark/main/WorldCupPlayers.csv'\n",
        "url3 = 'https://raw.githubusercontent.com/aureliolucassilva/spark/main/WorldCups.csv'\n",
        "\n",
        "\n",
        "# Inicializar dataframes\n",
        "spark.sparkContext.addFile(url1)\n",
        "spark.sparkContext.addFile(url2)\n",
        "spark.sparkContext.addFile(url3)\n",
        "jogosCopa = spark.read.csv(SparkFiles.get(\"WorldCupMatches.csv\"), inferSchema=True, header=True)\n",
        "jogadoresCopa = spark.read.csv(SparkFiles.get(\"WorldCupPlayers.csv\"), inferSchema=True, header=True)\n",
        "copasMundo = spark.read.csv(SparkFiles.get(\"WorldCups.csv\"), inferSchema=True, header=True)"
      ],
      "metadata": {
        "id": "NmWFknvkqxSB",
        "colab": {
          "base_uri": "https://localhost:8080/",
          "height": 727
        },
        "outputId": "2f713212-bb63-457d-dab2-cdadd13c03a9"
      },
      "execution_count": 6,
      "outputs": [
        {
          "output_type": "error",
          "ename": "Py4JJavaError",
          "evalue": "ignored",
          "traceback": [
            "\u001b[0;31m---------------------------------------------------------------------------\u001b[0m",
            "\u001b[0;31mPy4JJavaError\u001b[0m                             Traceback (most recent call last)",
            "\u001b[0;32m<ipython-input-6-86575957e744>\u001b[0m in \u001b[0;36m<module>\u001b[0;34m()\u001b[0m\n\u001b[1;32m      5\u001b[0m \u001b[0;34m\u001b[0m\u001b[0m\n\u001b[1;32m      6\u001b[0m \u001b[0;31m# Inicializar dataframes\u001b[0m\u001b[0;34m\u001b[0m\u001b[0;34m\u001b[0m\u001b[0;34m\u001b[0m\u001b[0m\n\u001b[0;32m----> 7\u001b[0;31m \u001b[0mspark\u001b[0m\u001b[0;34m.\u001b[0m\u001b[0msparkContext\u001b[0m\u001b[0;34m.\u001b[0m\u001b[0maddFile\u001b[0m\u001b[0;34m(\u001b[0m\u001b[0murl1\u001b[0m\u001b[0;34m)\u001b[0m\u001b[0;34m\u001b[0m\u001b[0;34m\u001b[0m\u001b[0m\n\u001b[0m\u001b[1;32m      8\u001b[0m \u001b[0mspark\u001b[0m\u001b[0;34m.\u001b[0m\u001b[0msparkContext\u001b[0m\u001b[0;34m.\u001b[0m\u001b[0maddFile\u001b[0m\u001b[0;34m(\u001b[0m\u001b[0murl2\u001b[0m\u001b[0;34m)\u001b[0m\u001b[0;34m\u001b[0m\u001b[0;34m\u001b[0m\u001b[0m\n\u001b[1;32m      9\u001b[0m \u001b[0mspark\u001b[0m\u001b[0;34m.\u001b[0m\u001b[0msparkContext\u001b[0m\u001b[0;34m.\u001b[0m\u001b[0maddFile\u001b[0m\u001b[0;34m(\u001b[0m\u001b[0murl3\u001b[0m\u001b[0;34m)\u001b[0m\u001b[0;34m\u001b[0m\u001b[0;34m\u001b[0m\u001b[0m\n",
            "\u001b[0;32m/usr/local/lib/python3.7/dist-packages/pyspark/context.py\u001b[0m in \u001b[0;36maddFile\u001b[0;34m(self, path, recursive)\u001b[0m\n\u001b[1;32m   1041\u001b[0m         \u001b[0;34m[\u001b[0m\u001b[0;36m100\u001b[0m\u001b[0;34m,\u001b[0m \u001b[0;36m200\u001b[0m\u001b[0;34m,\u001b[0m \u001b[0;36m300\u001b[0m\u001b[0;34m,\u001b[0m \u001b[0;36m400\u001b[0m\u001b[0;34m]\u001b[0m\u001b[0;34m\u001b[0m\u001b[0;34m\u001b[0m\u001b[0m\n\u001b[1;32m   1042\u001b[0m         \"\"\"\n\u001b[0;32m-> 1043\u001b[0;31m         \u001b[0mself\u001b[0m\u001b[0;34m.\u001b[0m\u001b[0m_jsc\u001b[0m\u001b[0;34m.\u001b[0m\u001b[0msc\u001b[0m\u001b[0;34m(\u001b[0m\u001b[0;34m)\u001b[0m\u001b[0;34m.\u001b[0m\u001b[0maddFile\u001b[0m\u001b[0;34m(\u001b[0m\u001b[0mpath\u001b[0m\u001b[0;34m,\u001b[0m \u001b[0mrecursive\u001b[0m\u001b[0;34m)\u001b[0m\u001b[0;34m\u001b[0m\u001b[0;34m\u001b[0m\u001b[0m\n\u001b[0m\u001b[1;32m   1044\u001b[0m \u001b[0;34m\u001b[0m\u001b[0m\n\u001b[1;32m   1045\u001b[0m     \u001b[0;32mdef\u001b[0m \u001b[0maddPyFile\u001b[0m\u001b[0;34m(\u001b[0m\u001b[0mself\u001b[0m\u001b[0;34m,\u001b[0m \u001b[0mpath\u001b[0m\u001b[0;34m)\u001b[0m\u001b[0;34m:\u001b[0m\u001b[0;34m\u001b[0m\u001b[0;34m\u001b[0m\u001b[0m\n",
            "\u001b[0;32m/usr/local/lib/python3.7/dist-packages/py4j/java_gateway.py\u001b[0m in \u001b[0;36m__call__\u001b[0;34m(self, *args)\u001b[0m\n\u001b[1;32m   1320\u001b[0m         \u001b[0manswer\u001b[0m \u001b[0;34m=\u001b[0m \u001b[0mself\u001b[0m\u001b[0;34m.\u001b[0m\u001b[0mgateway_client\u001b[0m\u001b[0;34m.\u001b[0m\u001b[0msend_command\u001b[0m\u001b[0;34m(\u001b[0m\u001b[0mcommand\u001b[0m\u001b[0;34m)\u001b[0m\u001b[0;34m\u001b[0m\u001b[0;34m\u001b[0m\u001b[0m\n\u001b[1;32m   1321\u001b[0m         return_value = get_return_value(\n\u001b[0;32m-> 1322\u001b[0;31m             answer, self.gateway_client, self.target_id, self.name)\n\u001b[0m\u001b[1;32m   1323\u001b[0m \u001b[0;34m\u001b[0m\u001b[0m\n\u001b[1;32m   1324\u001b[0m         \u001b[0;32mfor\u001b[0m \u001b[0mtemp_arg\u001b[0m \u001b[0;32min\u001b[0m \u001b[0mtemp_args\u001b[0m\u001b[0;34m:\u001b[0m\u001b[0;34m\u001b[0m\u001b[0;34m\u001b[0m\u001b[0m\n",
            "\u001b[0;32m/usr/local/lib/python3.7/dist-packages/pyspark/sql/utils.py\u001b[0m in \u001b[0;36mdeco\u001b[0;34m(*a, **kw)\u001b[0m\n\u001b[1;32m    109\u001b[0m     \u001b[0;32mdef\u001b[0m \u001b[0mdeco\u001b[0m\u001b[0;34m(\u001b[0m\u001b[0;34m*\u001b[0m\u001b[0ma\u001b[0m\u001b[0;34m,\u001b[0m \u001b[0;34m**\u001b[0m\u001b[0mkw\u001b[0m\u001b[0;34m)\u001b[0m\u001b[0;34m:\u001b[0m\u001b[0;34m\u001b[0m\u001b[0;34m\u001b[0m\u001b[0m\n\u001b[1;32m    110\u001b[0m         \u001b[0;32mtry\u001b[0m\u001b[0;34m:\u001b[0m\u001b[0;34m\u001b[0m\u001b[0;34m\u001b[0m\u001b[0m\n\u001b[0;32m--> 111\u001b[0;31m             \u001b[0;32mreturn\u001b[0m \u001b[0mf\u001b[0m\u001b[0;34m(\u001b[0m\u001b[0;34m*\u001b[0m\u001b[0ma\u001b[0m\u001b[0;34m,\u001b[0m \u001b[0;34m**\u001b[0m\u001b[0mkw\u001b[0m\u001b[0;34m)\u001b[0m\u001b[0;34m\u001b[0m\u001b[0;34m\u001b[0m\u001b[0m\n\u001b[0m\u001b[1;32m    112\u001b[0m         \u001b[0;32mexcept\u001b[0m \u001b[0mpy4j\u001b[0m\u001b[0;34m.\u001b[0m\u001b[0mprotocol\u001b[0m\u001b[0;34m.\u001b[0m\u001b[0mPy4JJavaError\u001b[0m \u001b[0;32mas\u001b[0m \u001b[0me\u001b[0m\u001b[0;34m:\u001b[0m\u001b[0;34m\u001b[0m\u001b[0;34m\u001b[0m\u001b[0m\n\u001b[1;32m    113\u001b[0m             \u001b[0mconverted\u001b[0m \u001b[0;34m=\u001b[0m \u001b[0mconvert_exception\u001b[0m\u001b[0;34m(\u001b[0m\u001b[0me\u001b[0m\u001b[0;34m.\u001b[0m\u001b[0mjava_exception\u001b[0m\u001b[0;34m)\u001b[0m\u001b[0;34m\u001b[0m\u001b[0;34m\u001b[0m\u001b[0m\n",
            "\u001b[0;32m/usr/local/lib/python3.7/dist-packages/py4j/protocol.py\u001b[0m in \u001b[0;36mget_return_value\u001b[0;34m(answer, gateway_client, target_id, name)\u001b[0m\n\u001b[1;32m    326\u001b[0m                 raise Py4JJavaError(\n\u001b[1;32m    327\u001b[0m                     \u001b[0;34m\"An error occurred while calling {0}{1}{2}.\\n\"\u001b[0m\u001b[0;34m.\u001b[0m\u001b[0;34m\u001b[0m\u001b[0;34m\u001b[0m\u001b[0m\n\u001b[0;32m--> 328\u001b[0;31m                     format(target_id, \".\", name), value)\n\u001b[0m\u001b[1;32m    329\u001b[0m             \u001b[0;32melse\u001b[0m\u001b[0;34m:\u001b[0m\u001b[0;34m\u001b[0m\u001b[0;34m\u001b[0m\u001b[0m\n\u001b[1;32m    330\u001b[0m                 raise Py4JError(\n",
            "\u001b[0;31mPy4JJavaError\u001b[0m: An error occurred while calling o36.addFile.\n: java.io.FileNotFoundException: https://raw.githubusercontent.com/aureliolucassilva/spark/main/WorldCupMatches.csv\n\tat java.base/sun.net.www.protocol.http.HttpURLConnection.getInputStream0(HttpURLConnection.java:1920)\n\tat java.base/sun.net.www.protocol.http.HttpURLConnection.getInputStream(HttpURLConnection.java:1520)\n\tat java.base/sun.net.www.protocol.https.HttpsURLConnectionImpl.getInputStream(HttpsURLConnectionImpl.java:250)\n\tat org.apache.spark.util.Utils$.doFetchFile(Utils.scala:772)\n\tat org.apache.spark.util.Utils$.fetchFile(Utils.scala:549)\n\tat org.apache.spark.SparkContext.addFile(SparkContext.scala:1633)\n\tat org.apache.spark.SparkContext.addFile(SparkContext.scala:1586)\n\tat java.base/jdk.internal.reflect.NativeMethodAccessorImpl.invoke0(Native Method)\n\tat java.base/jdk.internal.reflect.NativeMethodAccessorImpl.invoke(NativeMethodAccessorImpl.java:62)\n\tat java.base/jdk.internal.reflect.DelegatingMethodAccessorImpl.invoke(DelegatingMethodAccessorImpl.java:43)\n\tat java.base/java.lang.reflect.Method.invoke(Method.java:566)\n\tat py4j.reflection.MethodInvoker.invoke(MethodInvoker.java:244)\n\tat py4j.reflection.ReflectionEngine.invoke(ReflectionEngine.java:357)\n\tat py4j.Gateway.invoke(Gateway.java:282)\n\tat py4j.commands.AbstractCommand.invokeMethod(AbstractCommand.java:132)\n\tat py4j.commands.CallCommand.execute(CallCommand.java:79)\n\tat py4j.ClientServerConnection.waitForCommands(ClientServerConnection.java:182)\n\tat py4j.ClientServerConnection.run(ClientServerConnection.java:106)\n\tat java.base/java.lang.Thread.run(Thread.java:829)\n"
          ]
        }
      ]
    },
    {
      "cell_type": "code",
      "source": [
        "# Jogos da copa (Amostra de 10 registros)\n",
        "jogosCopa.show(10)"
      ],
      "metadata": {
        "id": "QXfFw0G_sMC0"
      },
      "execution_count": null,
      "outputs": []
    },
    {
      "cell_type": "code",
      "source": [
        "# Jogadores da copa (Amostra de 10 registros)\n",
        "jogadoresCopa.show(10)"
      ],
      "metadata": {
        "id": "OiBH46iTBr9H"
      },
      "execution_count": null,
      "outputs": []
    },
    {
      "cell_type": "code",
      "source": [
        "# Copas do mundo (Amostra de 10 registros)\n",
        "copasMundo.show(10)"
      ],
      "metadata": {
        "id": "UhW1VvewBt7m"
      },
      "execution_count": null,
      "outputs": []
    },
    {
      "cell_type": "code",
      "source": [
        "# Schema do dataframe jogosCopa\n",
        "jogosCopa.printSchema()"
      ],
      "metadata": {
        "id": "rTovMewxvnHp"
      },
      "execution_count": null,
      "outputs": []
    },
    {
      "cell_type": "code",
      "source": [
        "# Schema do dataframe jogadoresCopa\n",
        "jogadoresCopa.printSchema()"
      ],
      "metadata": {
        "id": "a-4KoXVVDCtv"
      },
      "execution_count": null,
      "outputs": []
    },
    {
      "cell_type": "code",
      "source": [
        "# Schema do dataframe copasMundo\n",
        "copasMundo.printSchema()"
      ],
      "metadata": {
        "id": "zDaumm1pDItn"
      },
      "execution_count": null,
      "outputs": []
    },
    {
      "cell_type": "markdown",
      "source": [
        "# ***Público nos jogos***"
      ],
      "metadata": {
        "id": "kT_dGfTPDUde"
      }
    },
    {
      "cell_type": "code",
      "source": [
        "# Maior, menor e média de público nos jogos \n",
        "maiorAno = jogosCopa.agg({\"Year\": \"max\"}).collect()[0][0]\n",
        "menorAno = jogosCopa.agg({\"Year\": \"min\"}).collect()[0][0]\n",
        "maiorPublico = jogosCopa.agg({\"Attendance\": \"max\"}).collect()[0][0]\n",
        "menorPublico = jogosCopa.agg({\"Attendance\": \"min\"}).collect()[0][0]\n",
        "mediaPublico = jogosCopa.agg({\"Attendance\": \"avg\"}).collect()[0][0]\n",
        "msg = 'Público entre os anos ' + str(menorAno) + ' e ' + str(maiorAno) + '\\n' + \\\n",
        "      'Maior público: ' + str(maiorPublico) + '\\n' + \\\n",
        "      'Menor público: ' + str(menorPublico) + '\\n' + \\\n",
        "      'Média público: ' + str(mediaPublico) + '\\n' \n",
        "print(msg)"
      ],
      "metadata": {
        "id": "LAZ9ua90vIoQ"
      },
      "execution_count": null,
      "outputs": []
    },
    {
      "cell_type": "code",
      "source": [
        "# Jogo com maior público\n",
        "jogosIconicos = jogosCopa.filter(jogosCopa.Attendance == maiorPublico)\n",
        "jogosIconicos.show()"
      ],
      "metadata": {
        "id": "3QB2JXFvwj3Z"
      },
      "execution_count": null,
      "outputs": []
    },
    {
      "cell_type": "code",
      "source": [
        "# Jogo com menor público\n",
        "jogosIconicos = jogosIconicos.union(jogosCopa.filter(jogosCopa.Attendance == menorPublico))\n",
        "jogosIconicos.show()\n",
        "\n",
        "#inclui o dado no data freme por isto tem 2 dado"
      ],
      "metadata": {
        "id": "ZLPxLsTY9zyI"
      },
      "execution_count": null,
      "outputs": []
    },
    {
      "cell_type": "code",
      "source": [
        "# Jogos abaixo da média de público\n",
        "jogosCopa.filter(jogosCopa.Attendance < mediaPublico).show(10)"
      ],
      "metadata": {
        "id": "izI6hfUwGp_p"
      },
      "execution_count": null,
      "outputs": []
    },
    {
      "cell_type": "code",
      "source": [
        "# Jogos acima da média de público\n",
        "jogosCopa.filter(jogosCopa.Attendance >= mediaPublico).show(10)"
      ],
      "metadata": {
        "id": "BO91cpDZG1KY"
      },
      "execution_count": null,
      "outputs": []
    },
    {
      "cell_type": "code",
      "source": [
        "# Jogos por cidade\n",
        "jogosCidade = jogosCopa.groupBy(\"City\").count() \\\n",
        "                       .withColumnRenamed('City', 'Cidade') \\\n",
        "                       .withColumnRenamed('count', 'Num. jogos')\n",
        "\n",
        "# Público total por cidade\n",
        "publicoCidade = jogosCopa.groupBy(\"City\").sum(\"Attendance\") \\\n",
        "                         .withColumnRenamed('City', 'Cidade') \\\n",
        "                         .withColumnRenamed('sum(Attendance)', 'Público total')\n",
        "\n",
        "# Análise do número de partidas e da média de público\n",
        "jogosCidade.createOrReplaceTempView(\"tempJogosCidade\")\n",
        "publicoCidade.createOrReplaceTempView(\"tempPublicoCidade\")\n",
        "queryCidade = \"\"\"\n",
        "                  select a.Cidade, \n",
        "                         a.`Num. jogos`,\n",
        "                         b.`Público total`,\n",
        "                         round(b.`Público total` / a.`Num. jogos`) as `Média público por partida` \n",
        "                  from tempJogosCidade a\n",
        "                  inner join tempPublicoCidade b\n",
        "                  on a.cidade = b.cidade\n",
        "                  order by a.`Num. jogos` desc\n",
        "              \"\"\"\n",
        "cidadesJogos = spark.sql(queryCidade)"
      ],
      "metadata": {
        "id": "gRhMxZ2u-T7t"
      },
      "execution_count": null,
      "outputs": []
    },
    {
      "cell_type": "code",
      "source": [
        "# Amostra\n",
        "cidadesJogos.show()"
      ],
      "metadata": {
        "id": "6wyH5pE_A9nz"
      },
      "execution_count": null,
      "outputs": []
    },
    {
      "cell_type": "code",
      "source": [
        "# Exportar resultados\n",
        "jogosIconicos.toPandas().to_csv('jogosIconicos.csv')\n",
        "cidadesJogos.toPandas().to_csv('cidadeJogos.csv')"
      ],
      "metadata": {
        "id": "jLbU8_jDASZV"
      },
      "execution_count": null,
      "outputs": []
    },
    {
      "cell_type": "markdown",
      "source": [
        "**Público nos jogos Brasil (*extra*)**\n",
        "---\n",
        "\n",
        "\n",
        "1.   Qual o ***maior*** público registrado em jogos do Brasil?\n",
        "2.   Qual o ***menor*** público registrado em jogos do Brasil?\n",
        "3.   Quais jogos do Brasil ficaram ***abaixo*** da média de público?\n",
        "4.   Quais jogos do Brasil ficaram ***acima*** da média de público?\n",
        "5.   Exporte os resultados em formato .csv, de acordo com:\n",
        "\n",
        "      *   Itens 1 e 2 juntos\n",
        "      *   Item 3 sozinho\n",
        "      *   Item 4 sozinho\n",
        "\n",
        "\n",
        "\n",
        "\n"
      ],
      "metadata": {
        "id": "wu3svHc_ItKE"
      }
    },
    {
      "cell_type": "code",
      "source": [
        "# Maior e menor publico jogos Brasil \n",
        "Publico = jogosCopa.groupBy(\"Home Team Name\",\"Away Team Name\").max(\"Attendance\") \\\n",
        "                         .withColumnRenamed('Home Team Name', 'Mandante') \\\n",
        "                         .withColumnRenamed('Away Team Name', 'Visitante') \\\n",
        "                         .withColumnRenamed('max(Attendance)', 'Público total')                  \n",
        "\n",
        "Publico.createOrReplaceTempView(\"tempPublicoMandante\")\n",
        "querypublicobrasil = \"\"\"\n",
        "                            select \n",
        "                                  max(`Público total`) as Max_Publico_Jogos_Brazil,\n",
        "                                  min(`Público total`) as Min_Publico_Jogos_Brazil\n",
        "                            from tempPublicoMandante\n",
        "                            where Mandante = 'Brazil'\n",
        "                            OR Visitante = 'Brazil'\n",
        "                        \"\"\"\n",
        "publicobrasil = spark.sql(querypublicobrasil)\n",
        "\n",
        "publicobrasil.show()\n"
      ],
      "metadata": {
        "id": "QlXvT39jItts"
      },
      "execution_count": null,
      "outputs": []
    },
    {
      "cell_type": "code",
      "source": [
        "#Jogos do Brasil que ficaram abaixo da média de público\n",
        "from pyspark.sql.functions import col\n",
        "JogosBrasil = jogosCopa.filter(((col(\"Home Team Name\") == \"Brazil\") | (col(\"Away Team Name\") == \"Brazil\")))\n",
        "\n",
        "AvgBrazil = JogosBrasil.agg({\"Attendance\": \"avg\"}).collect()[0][0]\n",
        "\n",
        "JogosAbaixoMedia = JogosBrasil.filter(JogosBrasil.Attendance < AvgBrazil)\n",
        "JogosAbaixoMedia.show(10)\n",
        "\n"
      ],
      "metadata": {
        "id": "tOKwL0m9qcEt"
      },
      "execution_count": null,
      "outputs": []
    },
    {
      "cell_type": "code",
      "source": [
        "#Jogos do Brasil que ficaram acima da média de público\n",
        "JogosBrasil = jogosCopa.filter(((col(\"Home Team Name\") == \"Brazil\") | (col(\"Away Team Name\") == \"Brazil\")))\n",
        "\n",
        "AvgBrazil = JogosBrasil.agg({\"Attendance\": \"avg\"}).collect()[0][0]\n",
        "\n",
        "JogosAcimaMedia = JogosBrasil.filter(JogosBrasil.Attendance > AvgBrazil)\n",
        "JogosAcimaMedia.show(10)"
      ],
      "metadata": {
        "id": "GkgkFuDDrQgW"
      },
      "execution_count": null,
      "outputs": []
    },
    {
      "cell_type": "code",
      "source": [
        "# Exportar resultados\n",
        "publicobrasil.toPandas().to_csv('publicobrasil.csv')\n",
        "JogosAbaixoMedia.toPandas().to_csv('JogosAbaixoMedia.csv')\n",
        "JogosAcimaMedia.toPandas().to_csv('JogosAcimaMedia.csv')"
      ],
      "metadata": {
        "id": "guaVuinyry-i"
      },
      "execution_count": null,
      "outputs": []
    },
    {
      "cell_type": "markdown",
      "source": [
        "# ***Resultados das partidas***"
      ],
      "metadata": {
        "id": "9IJWmgS3LraI"
      }
    },
    {
      "cell_type": "code",
      "source": [
        "# Resultados jogos\n",
        "resultadosJogos = jogosCopa.select('Home Team Name', \n",
        "                                   'Away Team Name', \n",
        "                                   'Home Team Goals', \n",
        "                                   'Away Team Goals',\n",
        "                                   'Home Team Initials',\n",
        "                                   'Away Team Initials') \\\n",
        "                           .withColumnRenamed('Home Team Name', 'Mandante') \\\n",
        "                           .withColumnRenamed('Away Team Name', 'Visitante') \\\n",
        "                           .withColumnRenamed('Home Team Goals', 'Gols em casa') \\\n",
        "                           .withColumnRenamed('Away Team Goals', 'Gols visitante') \\\n",
        "                           .withColumnRenamed('Home Team Initials', 'Sigla Mandante') \\\n",
        "                           .withColumnRenamed('Away Team Initials', 'Sigla Visitante')\n",
        "\n",
        "# Diferença de gols por jogo\n",
        "queryDiffGols = \"\"\"\n",
        "                    select  Mandante,\n",
        "                            Visitante, \n",
        "                            Gols_Casa, \n",
        "                            Gols_Fora, \n",
        "                            diff as Saldo\n",
        "                      from \n",
        "                      ( \n",
        "                            select Mandante, \n",
        "                                   Visitante, \n",
        "                                  `Gols em casa` AS Gols_Casa, \n",
        "                                  `Gols visitante` AS Gols_Fora, \n",
        "                                   abs(`Gols em casa` - `Gols visitante`) as diff \n",
        "                            from tempResultados \n",
        "                      )\n",
        "                      order by diff desc\n",
        "                \"\"\"\n",
        "\n",
        "resultadosJogos.createOrReplaceTempView(\"tempResultados\")\n",
        "golsResultados=spark.sql(queryDiffGols)"
      ],
      "metadata": {
        "id": "LEF711bKEuKs"
      },
      "execution_count": null,
      "outputs": []
    },
    {
      "cell_type": "code",
      "source": [
        "# Ordenado por maior saldo em ordem decrescente\n",
        "golsResultados.show(10)"
      ],
      "metadata": {
        "id": "AqrcKEfdIOBW"
      },
      "execution_count": null,
      "outputs": []
    },
    {
      "cell_type": "code",
      "source": [
        "# Consulta jogos Brasil (vitórias, derrotas e empates)\n",
        "queryJogosBrasil = \"\"\"\n",
        "                        select resultado, \n",
        "                               count(*) as qtd\n",
        "                        from \n",
        "                        (\n",
        "                            select local, \n",
        "                                   case when diff > 0 then 'vitoria'\n",
        "                                        when diff = 0 then 'empate'\n",
        "                                        else 'derrota'\n",
        "                                   end as resultado\n",
        "                            from \n",
        "                            ( \n",
        "                                  select 'Mandante' as local, \n",
        "                                         `Gols em casa` - `Gols visitante` as diff \n",
        "                                  from tempResultados \n",
        "                                  where `Sigla Mandante` = 'BRA'\n",
        "                            )\n",
        "\n",
        "                            union all\n",
        "\n",
        "                            select local, \n",
        "                                   case when diff < 0 then 'vitoria'\n",
        "                                        when diff = 0 then 'empate'\n",
        "                                        else 'derrota'\n",
        "                                   end as resultado\n",
        "                            from \n",
        "                            ( \n",
        "                                  select 'Visitante' as local, \n",
        "                                         `Gols em casa` - `Gols visitante` as diff \n",
        "                                  from tempResultados \n",
        "                                  where `Sigla Visitante` = 'BRA'\n",
        "                            )\n",
        "                        )\n",
        "                        group by resultado\n",
        "                   \"\"\"\n",
        "\n",
        "brasilResultados=spark.sql(queryJogosBrasil)"
      ],
      "metadata": {
        "id": "5fZHfC2jNmKo"
      },
      "execution_count": null,
      "outputs": []
    },
    {
      "cell_type": "code",
      "source": [
        "# Jogos Brasil\n",
        "brasilResultados.show()"
      ],
      "metadata": {
        "id": "y8vAeFSzEUjv"
      },
      "execution_count": null,
      "outputs": []
    },
    {
      "cell_type": "code",
      "source": [
        "# Porcentagem de vitórias, derrotas e empates\n",
        "vitorias = brasilResultados.filter(brasilResultados['resultado'] == 'vitoria').collect()[0][1]\n",
        "derrotas = brasilResultados.filter(brasilResultados['resultado'] == 'derrota').collect()[0][1]\n",
        "empates = brasilResultados.filter(brasilResultados['resultado'] == 'empate').collect()[0][1]\n",
        "totalJogos = vitorias + derrotas + empates\n",
        "\n",
        "print('Total de jogos: ' + str(totalJogos))\n",
        "print('Vitorias: ' + str(round(100*(vitorias/totalJogos), 2)) + '%')\n",
        "print('Derrotas: ' + str(round(100*(derrotas/totalJogos), 2)) + '%')\n",
        "print('Empates: ' + str(round(100*(empates/totalJogos), 2)) + '%')"
      ],
      "metadata": {
        "id": "m4qHQIl-Exh1"
      },
      "execution_count": null,
      "outputs": []
    },
    {
      "cell_type": "code",
      "source": [
        "# Adversários Brasil\n",
        "queryAdversariosBrasil = \"\"\"\n",
        "                                select adversario,\n",
        "                                       sum(qtd_partidas) as qtd_partidas\n",
        "                                from \n",
        "                                (\n",
        "                                    select `Sigla Visitante` as adversario,\n",
        "                                           count(*) as qtd_partidas\n",
        "                                    from tempResultados \n",
        "                                    where `Sigla Mandante` = 'BRA'\n",
        "                                    group by `Sigla Visitante`\n",
        "\n",
        "                                    union all\n",
        "\n",
        "                                    select `Sigla Mandante` as adversario,\n",
        "                                           count(*) as qtd_partidas\n",
        "                                    from tempResultados \n",
        "                                    where `Sigla Visitante` = 'BRA'\n",
        "                                    group by `Sigla Mandante`\n",
        "                                )\n",
        "                                group by adversario\n",
        "                                order by qtd_partidas desc\n",
        "                         \"\"\"\n",
        "\n",
        "brasilAdversarios=spark.sql(queryAdversariosBrasil)"
      ],
      "metadata": {
        "id": "jLV76Vd8Kv8N"
      },
      "execution_count": null,
      "outputs": []
    },
    {
      "cell_type": "code",
      "source": [
        "# Adversários Brasil em quantidade de partidas ordem decrescente\n",
        "brasilAdversarios.show()"
      ],
      "metadata": {
        "id": "Qy00tAs8NEQi"
      },
      "execution_count": null,
      "outputs": []
    },
    {
      "cell_type": "code",
      "source": [
        "# Exportar resultados\n",
        "golsResultados.toPandas().to_csv('golsResultados.csv')\n",
        "brasilAdversarios.toPandas().to_csv('brasilAdversarios.csv')"
      ],
      "metadata": {
        "id": "wPZQcsbrHbFR"
      },
      "execution_count": null,
      "outputs": []
    },
    {
      "cell_type": "markdown",
      "source": [
        "**Resultados partidas BRAxGER e histórico (*extra*)**\n",
        "---\n",
        "\n",
        "\n",
        "1.   Qual o ***empate*** com o maior número de gols na história das copas?\n",
        "2.   Qual o ***número*** de derrotas, vitórias e empates em partidas do Brasil com a Alemanha?\n",
        "3.   Qual a ***porcentagem*** de derrotas, vitórias e empates em partidas do Brasil com a Alemanha?\n",
        "4.   Qual a ***maior derrota*** sofrida pelo Brasil?\n",
        "5.   Qual a ***maior vitória*** do Brasil?\n",
        "6.   Exportar os resultados no formato .csv, de acordo com: \n",
        "     *   Item 1 separadamente\n",
        "     *   Itens 2 e 3 juntos em um único arquivo\n",
        "     *   Itens 4 e 5 juntos em um único arquivo"
      ],
      "metadata": {
        "id": "4R2TQ3wkK92y"
      }
    },
    {
      "cell_type": "code",
      "source": [
        "#Maior Empate\n",
        "JogosEmpate = jogosCopa.filter(col('Home Team Goals') == col('Away Team Goals'))\n",
        "\n",
        "Empate = JogosEmpate.agg({\"Home Team Goals\": \"max\"}).collect()[0][0]\n",
        "\n",
        "JogosEmpate.filter(JogosEmpate['Home Team Goals'] == Empate).show()"
      ],
      "metadata": {
        "id": "ep5GHsRPK-_0"
      },
      "execution_count": null,
      "outputs": []
    },
    {
      "cell_type": "code",
      "source": [
        "#Qual o número de derrotas, vitórias e empates em partidas do Brasil com a Alemanha?\n",
        "\n",
        "\n",
        "\n",
        "\n"
      ],
      "metadata": {
        "id": "E7AjIfT2--aa"
      },
      "execution_count": null,
      "outputs": []
    },
    {
      "cell_type": "markdown",
      "source": [
        "# ***Seleção 1970***"
      ],
      "metadata": {
        "id": "ShvGtpgZXqrs"
      }
    },
    {
      "cell_type": "code",
      "source": [
        "# Jogadores Ano 1970\n",
        "jogosCopa.createOrReplaceTempView(\"tempJogos\")\n",
        "jogadoresCopa.createOrReplaceTempView(\"tempJogadores\")\n",
        "\n",
        "queryJogadores1970 = \"\"\"\n",
        "                          select  roundID,\n",
        "                                  matchID,\n",
        "                                  `Team Initials`,\n",
        "                                  `Coach Name`,\n",
        "                                  `Line-up`,\n",
        "                                  `Shirt Number`,\n",
        "                                  `Player Name`,\n",
        "                                  position,\n",
        "                                  event\n",
        "                          from tempJogadores \n",
        "                          where matchID in\n",
        "                          (\n",
        "                              select matchID\n",
        "                              from tempJogos\n",
        "                              where year = 1970\n",
        "                          )\n",
        "                     \"\"\"\n",
        "\n",
        "jogadores1970=spark.sql(queryJogadores1970)"
      ],
      "metadata": {
        "id": "AQynAetOXGz4"
      },
      "execution_count": null,
      "outputs": []
    },
    {
      "cell_type": "code",
      "source": [
        "# Amostra \n",
        "jogadores1970.show(10)"
      ],
      "metadata": {
        "id": "9smR-hWma2N8"
      },
      "execution_count": null,
      "outputs": []
    },
    {
      "cell_type": "code",
      "source": [
        "# Seleção Brasil\n",
        "jogadores1970.createOrReplaceTempView(\"tempJogadores1970\")\n",
        "queryJogadoresBrasil1970 = \"\"\"\n",
        "                               select distinct `Shirt Number` as `Num. Camisa`,\n",
        "                                               `Player Name` as `Jogador` \n",
        "                               from tempJogadores1970\n",
        "                               where `Team Initials` = 'BRA'\n",
        "                               order by `Num. Camisa` asc\n",
        "                           \"\"\"\n",
        "\n",
        "selecao1970=spark.sql(queryJogadoresBrasil1970)"
      ],
      "metadata": {
        "id": "yGJIhXa7cOSa"
      },
      "execution_count": null,
      "outputs": []
    },
    {
      "cell_type": "code",
      "source": [
        "# Amostra\n",
        "selecao1970.show()"
      ],
      "metadata": {
        "id": "9h8HzqLldig-"
      },
      "execution_count": null,
      "outputs": []
    },
    {
      "cell_type": "code",
      "source": [
        "# Final 1970\n",
        "idJogo = jogosCopa.filter((jogosCopa.Stage == 'Final') & (jogosCopa.Year == 1970)).collect()[0][17]"
      ],
      "metadata": {
        "id": "3HtkIJ8SfBUG"
      },
      "execution_count": null,
      "outputs": []
    },
    {
      "cell_type": "code",
      "source": [
        "# Eventos Final 1970\n",
        "queryFinal1970 = \"\"\"\n",
        "                      select `Player Name` as Jogador,\n",
        "                              event as Evento\n",
        "                      from tempJogadores\n",
        "                      where matchId = {0}\n",
        "                      and {1} is not null\n",
        "                 \"\"\".format(idJogo, 'event')\n",
        "eventosFinal1970=spark.sql(queryFinal1970)"
      ],
      "metadata": {
        "id": "k_zlwi6ijd3e"
      },
      "execution_count": null,
      "outputs": []
    },
    {
      "cell_type": "code",
      "source": [
        "print(queryFinal1970)"
      ],
      "metadata": {
        "id": "IKR5msJCRDUF"
      },
      "execution_count": null,
      "outputs": []
    },
    {
      "cell_type": "code",
      "source": [
        "# Amostra\n",
        "eventosFinal1970.show()"
      ],
      "metadata": {
        "id": "TQrDqJTtvpyn"
      },
      "execution_count": null,
      "outputs": []
    },
    {
      "cell_type": "code",
      "source": [
        "# Gols marcados ao longo da Copa 1970\n",
        "queryGols1970 = \"\"\"\n",
        "                      select `Player Name` as Jogador,\n",
        "                              sum(length(regexp_replace(event, '[^G]', ''))) as Gols\n",
        "                      from tempJogadores\n",
        "                      where matchID in\n",
        "                      (\n",
        "                        select matchID\n",
        "                        from tempJogos\n",
        "                        where year = 1970\n",
        "                        and (`Home Team Initials` = 'BRA' or `Away Team Initials` = 'BRA')\n",
        "                      )\n",
        "                      and event like '%G%'\n",
        "                      and `Team Initials` = 'BRA'\n",
        "                      group by `Player Name`\n",
        "                      order by Gols desc\n",
        "                 \"\"\"\n",
        "\n",
        "golsBrasil1970=spark.sql(queryGols1970)"
      ],
      "metadata": {
        "id": "8xm7Lw-XyCuL"
      },
      "execution_count": null,
      "outputs": []
    },
    {
      "cell_type": "code",
      "source": [
        "# Amostra\n",
        "golsBrasil1970.show()"
      ],
      "metadata": {
        "id": "SODVz68H1LiC"
      },
      "execution_count": null,
      "outputs": []
    },
    {
      "cell_type": "code",
      "source": [
        "# Exportar resultados\n",
        "selecao1970.toPandas().to_csv('selecao1970.csv')\n",
        "golsBrasil1970.toPandas().to_csv('golsBrasil1970.csv')\n",
        "eventosFinal1970.toPandas().to_csv('eventosFinal1970.csv')"
      ],
      "metadata": {
        "id": "ZxUeAKlI44Cu"
      },
      "execution_count": null,
      "outputs": []
    },
    {
      "cell_type": "markdown",
      "source": [
        "**Extra**\n",
        "---\n",
        "\n",
        "\n",
        "1.   Fazer as mesmas análises para a seleção de **1998**\n",
        "2.   Exportar, separadamente, os reultados no formato .csv"
      ],
      "metadata": {
        "id": "IpF3T7lqMMVN"
      }
    },
    {
      "cell_type": "code",
      "source": [
        "#\n",
        "# \n",
        "# ESCREVA AQUI!!\n",
        "#\n",
        "#"
      ],
      "metadata": {
        "id": "ltIZcECHMZM8"
      },
      "execution_count": null,
      "outputs": []
    }
  ]
}